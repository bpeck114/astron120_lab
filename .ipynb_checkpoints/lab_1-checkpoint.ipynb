{
 "cells": [
  {
   "cell_type": "markdown",
   "id": "82de3597-261b-44ab-9e2a-5ead4c38cb31",
   "metadata": {},
   "source": [
    "# Lab #1 Images, optics, and the statistics of light"
   ]
  },
  {
   "cell_type": "code",
   "execution_count": 2,
   "id": "61a01545-d63b-4ec7-ac84-f96b95681649",
   "metadata": {},
   "outputs": [],
   "source": [
    "# Import necessary packages\n",
    "import numpy as np\n",
    "import math"
   ]
  },
  {
   "cell_type": "markdown",
   "id": "24c516e9-07ba-4c06-bb23-70eece4d0f2c",
   "metadata": {},
   "source": [
    "## Optical Imager\n",
    "*GOAL*: Map an object to an image plane (image formation). \\\n",
    "\\\n",
    "**Thin-lens equation**:\n",
    "\n",
    "$$\n",
    "\\frac{1}{f} = \\frac{1}{i} + \\frac{1}{o},\n",
    "$$\n",
    "where $f = \\text{focal length of thin lens}$, $o = \\text{distance from object to thin lens}$ and $i = \\text{distance from image to thin lens}$. \n",
    "\n",
    "**Focal length** = determines how strongly a system converges or diverges recieved light, determines the extent of an image and the distance between two imaged objects on the focal plane. \\\n",
    "**Focal plane** = where your image comes to a focus \\\n",
    "**Combination of two lenses equation:** \n",
    "$$\n",
    "\\frac{1}{F} = \\frac{1}{f_1} + \\frac{1}{f_2} - \\frac{d}{f_1 * f_2}\n",
    "$$\n",
    "\n",
    "where $F = \\text{combined focal length}$, $f_1 = \\text{focal length of lens 1}$, $f_2 = \\text{focal length of lens 2}$ and $d = \\text{distance between lenses}$."
   ]
  },
  {
   "cell_type": "markdown",
   "id": "679a21f6-c980-4045-b118-de8f420aa50b",
   "metadata": {},
   "source": [
    "### Parameters"
   ]
  },
  {
   "cell_type": "code",
   "execution_count": 3,
   "id": "cf63fa13-7494-4c71-9e3d-d4e360b5b4d9",
   "metadata": {},
   "outputs": [],
   "source": [
    "# Detector\n",
    "detector_width_pixels = 1440\n",
    "detector_height_pixels = 1440\n",
    "pixel_size_um = 2.4\n",
    "#wavelength_of_detector = "
   ]
  },
  {
   "cell_type": "code",
   "execution_count": 4,
   "id": "3be812bd-9cb3-499c-98e8-cab48ba054c5",
   "metadata": {},
   "outputs": [],
   "source": [
    "# Lenses\n",
    "focal_lengths_mm = [50, 75, 75, 100]"
   ]
  },
  {
   "cell_type": "markdown",
   "id": "f54651b7-da79-4e15-9cf5-e34094ead3f0",
   "metadata": {},
   "source": [
    "## 1.1 Plate Scale\n",
    "*GOAL*: Determine an optimal imaging system with a plate scale that would allow to resolve two successive lines of the provided Ronchi mask. \\\n",
    "\\\n",
    "**Plate scale** = angular size of an object that can be imaged onto a particular linear size on the focal plane (angle / unit length) (radians / mm) (*prefered*: arcseconds / pixel)\n",
    "\n",
    "\n",
    "$$\n",
    "\\begin{split}\n",
    "\\text{Plate Scale } (p) & = \\frac{\\text{angular separation}\\,(\\text{radians})}{\\text{linear separation} (\\text{mm})} = \\frac{\\text{pixel size (mm)}}{\\text{focal length (mm)}} = \\frac{\\text{radians}}{\\text{pixel}} * \\left(\\frac{206265\\,\\text{arcseconds}}{1\\,\\text{radian}} \\right) = \\frac{\\text{arcseconds}}{\\text{pixel}}\n",
    "\\end{split}\n",
    "$$\n",
    "Note 1: Larger plate scale = larger field of view, smaller plate scale = larger angular resolution\n",
    "Note 2: Larger focal length = smaller plate scale, smaller focal length = larger plate scale\n",
    "Note 3: Larger focal length = smaller field of view, smaller focal length = larger field of view"
   ]
  },
  {
   "cell_type": "markdown",
   "id": "44a8eeb6-e390-4ef1-8994-017176995bd2",
   "metadata": {},
   "source": [
    "### Pre-known Parameters\n",
    "By testing our optical setup, we can determine the distance between Ronchi lines"
   ]
  },
  {
   "cell_type": "code",
   "execution_count": 5,
   "id": "80b0553b-39ba-4edf-b6a5-983313d6a848",
   "metadata": {},
   "outputs": [],
   "source": [
    "number_of_ronchi_lines = 17\n",
    "distance_from_detector_to_ronchi_lines_cm = 7.5 + .9 + 22.7 + .9 + 7.6 # cm"
   ]
  },
  {
   "cell_type": "code",
   "execution_count": 6,
   "id": "ed3aa72b-3758-4eda-b0ed-7c854b89d974",
   "metadata": {},
   "outputs": [],
   "source": [
    "def calculate_ronchi_line_separation_mm_and_arcseconds(number_of_ronchi_lines,\n",
    "                                                       detector_width_pixels,\n",
    "                                                       pixel_size_um,\n",
    "                                                       distance_from_detector_to_ronchi_lines_cm):\n",
    "    # mm\n",
    "    pixel_size_mm = pixel_size_um / 1000 # Convert micro to milli         \n",
    "    detector_width_mm = detector_width_pixels * pixel_size_mm \n",
    "    line_separation_mm = detector_width_mm / (number_of_ronchi_lines - 1)\n",
    "\n",
    "    # arcseconds\n",
    "    distance_from_detector_to_ronchi_lines_mm = distance_from_detector_to_ronchi_lines_cm * 10 # mm\n",
    "    theta_radians = math.atan(line_separation_mm / distance_from_detector_to_ronchi_lines_mm) #radians\n",
    "    theta_degrees = math.degrees(theta_radians) # degrees \n",
    "    theta_arcseconds = theta_degrees * 3600 # arcseconds\n",
    "                                                           \n",
    "    return line_separation_mm, theta_arcseconds"
   ]
  },
  {
   "cell_type": "code",
   "execution_count": 7,
   "id": "c8833709-5ba1-4c14-b463-3d84cccbae3a",
   "metadata": {},
   "outputs": [
    {
     "name": "stdout",
     "output_type": "stream",
     "text": [
      "Separation between Ronchi lines is 0.216 (mm).\n",
      "Separation between Ronchi lines is 112.5081 (arcseconds).\n"
     ]
    }
   ],
   "source": [
    "ronchi_line_separation_mm, ronchi_line_separation_arcseconds = calculate_ronchi_line_separation_mm_and_arcseconds(number_of_ronchi_lines=number_of_ronchi_lines,\n",
    "                                                                                                                  detector_width_pixels=detector_width_pixels,\n",
    "                                                                                                                  pixel_size_um=pixel_size_um,\n",
    "                                                                                                                  distance_from_detector_to_ronchi_lines_cm=distance_from_detector_to_ronchi_lines_cm)\n",
    "\n",
    "print(f\"Separation between Ronchi lines is {np.round(ronchi_line_separation_mm,4)} (mm).\")\n",
    "print(f\"Separation between Ronchi lines is {np.round(ronchi_line_separation_arcseconds,4)} (arcseconds).\")"
   ]
  },
  {
   "cell_type": "markdown",
   "id": "845091f2-9e56-4775-b0e7-aa7579fc215b",
   "metadata": {},
   "source": [
    "### Determining Plate-Scale"
   ]
  },
  {
   "cell_type": "code",
   "execution_count": 8,
   "id": "f6eefe51-6c49-476a-92ca-bf2fea609cfe",
   "metadata": {},
   "outputs": [],
   "source": [
    "number_of_pixels_to_resolve = 10"
   ]
  },
  {
   "cell_type": "code",
   "execution_count": 29,
   "id": "3ed897a3-82fe-4fb1-848d-47a9fa89e60b",
   "metadata": {},
   "outputs": [],
   "source": [
    "def calculate_needed_plate_scale_and_field_of_view(size_of_object_arcseconds,\n",
    "                                                   detector_width_pixels,\n",
    "                                                   number_of_pixels_to_resolve):\n",
    "    # Plate-scale\n",
    "    plate_scale = size_of_object_arcseconds / number_of_pixels_to_resolve\n",
    "                                                       \n",
    "    # Field of View\n",
    "    field_of_view = plate_scale * detector_width_pixels\n",
    "                                                       \n",
    "    return plate_scale, field_of_view"
   ]
  },
  {
   "cell_type": "code",
   "execution_count": 30,
   "id": "59a4d0c9-f3b8-4279-8322-0522a3da60f9",
   "metadata": {},
   "outputs": [
    {
     "name": "stdout",
     "output_type": "stream",
     "text": [
      "Required plate scale for Ronchi line separation is 11.2508 (arcseconds / pixel).\n",
      "Field of view corresponding to required plate scale is 16201.1614 (arcseconds).\n"
     ]
    }
   ],
   "source": [
    "ronchi_lines_plate_scale, ronchi_lines_field_of_view = calculate_needed_plate_scale_and_field_of_view(size_of_object_arcseconds=ronchi_line_separation_arcseconds,\n",
    "                                                                                                      detector_width_pixels=detector_width_pixels,\n",
    "                                                                                                      number_of_pixels_to_resolve=number_of_pixels_to_resolve)\n",
    "\n",
    "                                                                                                      \n",
    "print(f\"Required plate scale for Ronchi line separation is {np.round(ronchi_lines_plate_scale,4)} (arcseconds / pixel).\")\n",
    "print(f\"Field of view corresponding to required plate scale is {np.round(ronchi_lines_field_of_view,4)} (arcseconds).\")\n",
    "                                                                                                      "
   ]
  },
  {
   "cell_type": "code",
   "execution_count": 31,
   "id": "c960764e-3e52-468c-84a2-ca268800b62c",
   "metadata": {},
   "outputs": [],
   "source": [
    "def calculate_given_plate_scale_and_field_of_view(focal_length_mm,\n",
    "                                                  pixel_size_um,\n",
    "                                                  detector_width_pixels):\n",
    "    pixel_size_mm = pixel_size_um / 1000\n",
    "    plate_scale = (206265 * pixel_size_mm) / focal_length_mm\n",
    "    field_of_view = plate_scale * detector_width_pixels\n",
    "    return plate_scale, field_of_view"
   ]
  },
  {
   "cell_type": "code",
   "execution_count": 32,
   "id": "5c449fea-0ab0-4976-acad-d866663566eb",
   "metadata": {},
   "outputs": [
    {
     "name": "stdout",
     "output_type": "stream",
     "text": [
      "For 50mm lens, plate scale is 9.9007 (arcseconds / pixel) and field of view is 14257.0368 (arcseconds).\n",
      "For 75mm lens, plate scale is 6.6005 (arcseconds / pixel) and field of view is 9504.6912 (arcseconds).\n",
      "For 100mm lens, plate scale is 4.9504 (arcseconds / pixel) and field of view is 7128.5184 (arcseconds).\n"
     ]
    }
   ],
   "source": [
    "plate_scale_for_50mm, field_of_view_for_50mm = calculate_given_plate_scale_and_field_of_view(focal_length_mm=focal_lengths_mm[0],\n",
    "                                                                                             pixel_size_um=pixel_size_um,\n",
    "                                                                                             detector_width_pixels=detector_width_pixels)\n",
    "\n",
    "plate_scale_for_75mm, field_of_view_for_75mm = calculate_given_plate_scale_and_field_of_view(focal_length_mm=focal_lengths_mm[1],\n",
    "                                                                                             pixel_size_um=pixel_size_um,\n",
    "                                                                                             detector_width_pixels=detector_width_pixels)\n",
    "\n",
    "plate_scale_for_100mm, field_of_view_for_100mm = calculate_given_plate_scale_and_field_of_view(focal_length_mm=focal_lengths_mm[3],\n",
    "                                                                                              pixel_size_um=pixel_size_um,\n",
    "                                                                                              detector_width_pixels=detector_width_pixels)\n",
    "\n",
    "print(f\"For {focal_lengths_mm[0]}mm lens, plate scale is {np.round(plate_scale_for_50mm,4)} (arcseconds / pixel) and field of view is {np.round(field_of_view_for_50mm, 4)} (arcseconds).\") \n",
    "print(f\"For {focal_lengths_mm[1]}mm lens, plate scale is {np.round(plate_scale_for_75mm,4)} (arcseconds / pixel) and field of view is {np.round(field_of_view_for_75mm, 4)} (arcseconds).\") \n",
    "print(f\"For {focal_lengths_mm[3]}mm lens, plate scale is {np.round(plate_scale_for_100mm,4)} (arcseconds / pixel) and field of view is {np.round(field_of_view_for_100mm, 4)} (arcseconds).\") "
   ]
  },
  {
   "cell_type": "markdown",
   "id": "07aa0ffa-88df-4cab-98fc-6191e5e2fe84",
   "metadata": {},
   "source": [
    "## 1.2 Field of View\n",
    "*GOAL*: Determine an optimal imaging system that is capable of imaging the entire extent of Jupiter in a single exposure."
   ]
  },
  {
   "cell_type": "code",
   "execution_count": 33,
   "id": "bb9606d6-4163-4aed-aca9-0347584ec19f",
   "metadata": {},
   "outputs": [],
   "source": [
    "height_of_jupiter_cm = 10.3\n",
    "width_of_jupiter_cm = 11.0\n",
    "distance_from_detector_to_jupiter_cm = .75 + 1.4 + 4.5 + .9 + 157.5 \n",
    "number_of_pixels_to_resolve_jupiter = 1400"
   ]
  },
  {
   "cell_type": "code",
   "execution_count": 34,
   "id": "cf48408b-cc4e-433d-9b08-8818adb329a9",
   "metadata": {},
   "outputs": [],
   "source": [
    "def calculate_jupiter_arcseconds(detector_width_pixels,\n",
    "                                 pixel_size_um,\n",
    "                                 size_of_jupiter_cm,\n",
    "                                 distance_from_detector_to_jupiter_cm):\n",
    "\n",
    "    # arcseconds\n",
    "    distance_from_detector_to_jupiter_mm = distance_from_detector_to_jupiter_cm * 10 # cm to mm\n",
    "    size_of_jupiter_mm = size_of_jupiter_cm * 10 # cm to mm\n",
    "    theta_radians = math.atan(size_of_jupiter_mm / distance_from_detector_to_jupiter_mm) #radians\n",
    "    theta_degrees = math.degrees(theta_radians) # degrees \n",
    "    theta_arcseconds = theta_degrees * 3600 # arcseconds\n",
    "                                                           \n",
    "    return theta_arcseconds"
   ]
  },
  {
   "cell_type": "code",
   "execution_count": 35,
   "id": "d9695d31-9720-4428-bf9c-281921ebb41f",
   "metadata": {},
   "outputs": [
    {
     "name": "stdout",
     "output_type": "stream",
     "text": [
      "Height of Jupiter is 12855.3529 (arcseconds) and width of Jupiter is 13726.5221 (arcseconds).\n"
     ]
    }
   ],
   "source": [
    "height_of_jupiter_arcseconds = calculate_jupiter_arcseconds(detector_width_pixels=detector_width_pixels,\n",
    "                                                            pixel_size_um=pixel_size_um,\n",
    "                                                            size_of_jupiter_cm=height_of_jupiter_cm,\n",
    "                                                            distance_from_detector_to_jupiter_cm=distance_from_detector_to_jupiter_cm)\n",
    "\n",
    "width_of_jupiter_arcseconds = calculate_jupiter_arcseconds(detector_width_pixels=detector_width_pixels,\n",
    "                                                           pixel_size_um=pixel_size_um,\n",
    "                                                           size_of_jupiter_cm=width_of_jupiter_cm,\n",
    "                                                           distance_from_detector_to_jupiter_cm=distance_from_detector_to_jupiter_cm)\n",
    "\n",
    "print(f\"Height of Jupiter is {np.round(height_of_jupiter_arcseconds,4)} (arcseconds) and width of Jupiter is {np.round(width_of_jupiter_arcseconds,4)} (arcseconds).\")"
   ]
  },
  {
   "cell_type": "code",
   "execution_count": 37,
   "id": "a06b4162-98c7-4a0c-8361-15267d01507d",
   "metadata": {},
   "outputs": [
    {
     "name": "stdout",
     "output_type": "stream",
     "text": [
      "Required plate scale for resolving Jupiter is 9.8047 (arcseconds / pixel).\n",
      "Field of view corresponding to required plate scale is 14118.7085 (arcseconds).\n"
     ]
    }
   ],
   "source": [
    "jupiter_plate_scale, jupiter_field_of_view = calculate_needed_plate_scale_and_field_of_view(size_of_object_arcseconds=width_of_jupiter_arcseconds,\n",
    "                                                                                            detector_width_pixels=detector_width_pixels,\n",
    "                                                                                            number_of_pixels_to_resolve=number_of_pixels_to_resolve_jupiter)\n",
    "\n",
    "print(f\"Required plate scale for resolving Jupiter is {np.round(jupiter_plate_scale,4)} (arcseconds / pixel).\")\n",
    "print(f\"Field of view corresponding to required plate scale is {np.round(jupiter_field_of_view,4)} (arcseconds).\")"
   ]
  },
  {
   "cell_type": "markdown",
   "id": "a77b3393-c974-4b43-9876-f47c8b7c6663",
   "metadata": {},
   "source": [
    "### Combination of Lenses"
   ]
  },
  {
   "cell_type": "code",
   "execution_count": 46,
   "id": "636a5b6e-0b4a-4901-8c9c-b4000167adcb",
   "metadata": {},
   "outputs": [],
   "source": [
    "minimum_distance_between_50mm_75mm_cm = .7 # cm\n",
    "minimum_distance_between_75mm_75mm_cm = 1.4 # cm\n",
    "minimum_distance_between_50mm_100mm_cm = .7 # cm\n",
    "minimum_distance_between_75mm_100mm_cm = 1.4 # cm"
   ]
  },
  {
   "cell_type": "code",
   "execution_count": 47,
   "id": "7b8590cc-a42e-42a0-b109-06e24e9bdb09",
   "metadata": {},
   "outputs": [],
   "source": [
    "def combined_focal_length_mm(focal_length_1_mm,\n",
    "                             focal_length_2_mm,\n",
    "                             distance_bewteen_lenses_cm):\n",
    "                                 \n",
    "    distance_between_lenses_mm = distance_bewteen_lenses_cm * 10 # mm\n",
    "    \n",
    "    return 1 / ((1 / focal_length_1_mm) + (1 / focal_length_2_mm) - (distance_between_lenses_mm / (focal_length_1_mm * focal_length_2_mm)))"
   ]
  },
  {
   "cell_type": "code",
   "execution_count": 62,
   "id": "20ac6cc3-fa67-4228-a202-917aba3556b9",
   "metadata": {},
   "outputs": [
    {
     "name": "stdout",
     "output_type": "stream",
     "text": [
      "Combined focal length of 50 mm lens and 75 mm lens is 31.7797 (mm).\n",
      "Combined focal length of 75 mm lens and 75 mm lens is 41.3603 (mm).\n",
      "Combined focal length of 50 mm lens and 100 mm lens is 34.965 (mm).\n",
      "Combined focal length of 75 mm lens and 100 mm lens is 46.5839 (mm).\n"
     ]
    }
   ],
   "source": [
    "combined_focal_length_50_75mm = combined_focal_length_mm(focal_length_1_mm=focal_lengths_mm[0],\n",
    "                                                         focal_length_2_mm=focal_lengths_mm[1],\n",
    "                                                         distance_bewteen_lenses_cm=minimum_distance_between_50mm_75mm_cm)\n",
    "\n",
    "combined_focal_length_75_75mm = combined_focal_length_mm(focal_length_1_mm=focal_lengths_mm[1],\n",
    "                                                         focal_length_2_mm=focal_lengths_mm[2],\n",
    "                                                         distance_bewteen_lenses_cm=minimum_distance_between_75mm_75mm_cm)\n",
    "\n",
    "combined_focal_length_50_100mm = combined_focal_length_mm(focal_length_1_mm=focal_lengths_mm[0],\n",
    "                                                          focal_length_2_mm=focal_lengths_mm[3],\n",
    "                                                          distance_bewteen_lenses_cm=minimum_distance_between_50mm_100mm_cm)\n",
    "\n",
    "combined_focal_length_75_100mm = combined_focal_length_mm(focal_length_1_mm=focal_lengths_mm[1],\n",
    "                                                          focal_length_2_mm=focal_lengths_mm[3],\n",
    "                                                          distance_bewteen_lenses_cm=minimum_distance_between_75mm_100mm_cm)\n",
    "\n",
    "print(f\"Combined focal length of {np.round(focal_lengths_mm[0],4)} mm lens and {np.round(focal_lengths_mm[1],4)} mm lens is {np.round(combined_focal_length_50_75mm,4)} (mm).\")\n",
    "print(f\"Combined focal length of {np.round(focal_lengths_mm[1],4)} mm lens and {np.round(focal_lengths_mm[2],4)} mm lens is {np.round(combined_focal_length_75_75mm,4)} (mm).\")\n",
    "print(f\"Combined focal length of {np.round(focal_lengths_mm[0],4)} mm lens and {np.round(focal_lengths_mm[3],4)} mm lens is {np.round(combined_focal_length_50_100mm,4)} (mm).\")\n",
    "print(f\"Combined focal length of {np.round(focal_lengths_mm[1],4)} mm lens and {np.round(focal_lengths_mm[3],4)} mm lens is {np.round(combined_focal_length_75_100mm,4)} (mm).\")"
   ]
  },
  {
   "cell_type": "code",
   "execution_count": 65,
   "id": "0618f35e-d6d4-477a-b522-f2ba22caf238",
   "metadata": {},
   "outputs": [
    {
     "name": "stdout",
     "output_type": "stream",
     "text": [
      "Combined focal length of 31.7797 mm lens and 75 mm lens is 23.4434 (mm).\n"
     ]
    }
   ],
   "source": [
    "combined_focal_length_31_75mm = combined_focal_length_mm(focal_length_1_mm=focal_lengths_mm[0],\n",
    "                                                          focal_length_2_mm=combined_focal_length_50_75_mm,\n",
    "                                                          distance_bewteen_lenses_cm=minimum_distance_between_75mm_75mm_cm)\n",
    "\n",
    "print(f\"Combined focal length of {np.round(combined_focal_length_50_75_mm,4)} mm lens and {np.round(focal_lengths_mm[1],4)} mm lens is {np.round(combined_focal_length_31_75_mm,4)} (mm).\")"
   ]
  },
  {
   "cell_type": "code",
   "execution_count": 66,
   "id": "84b86f35-3977-4b37-b8cc-01f8b9e21a0e",
   "metadata": {},
   "outputs": [
    {
     "name": "stdout",
     "output_type": "stream",
     "text": [
      "Combined focal length of 23.4434 mm lens and 100 mm lens is 21.4205 (mm).\n"
     ]
    }
   ],
   "source": [
    "combined_focal_length_23_100mm = combined_focal_length_mm(focal_length_1_mm=focal_lengths_mm[3],\n",
    "                                                           focal_length_2_mm=combined_focal_length_31_75_mm,\n",
    "                                                           distance_bewteen_lenses_cm=minimum_distance_between_75mm_100mm_cm)\n",
    "\n",
    "print(f\"Combined focal length of {np.round(combined_focal_length_31_75_mm,4)} mm lens and {np.round(focal_lengths_mm[3],4)} mm lens is {np.round(combined_focal_length_23_100_mm,4)} (mm).\")"
   ]
  },
  {
   "cell_type": "code",
   "execution_count": 68,
   "id": "282013fa-d537-412a-8220-2969ca6ceaf0",
   "metadata": {},
   "outputs": [
    {
     "name": "stdout",
     "output_type": "stream",
     "text": [
      "For combining 50 mm lens with 75 mm lens, plate scale is 15.5771 (arcseconds / pixel) and field of view is 22431.0712 (arcseconds).\n",
      "For combining 50 mm lens with 23.4434 mm lens, plate scale is 15.5771 (arcseconds / pixel) and field of view is 30407.4081 (arcseconds).\n",
      "For combining 50 mm lens with 21.4205 mm lens, plate scale is 15.5771 (arcseconds / pixel) and field of view is 33278.8894 (arcseconds).\n"
     ]
    }
   ],
   "source": [
    "plate_scale_for_50mm_75mm, field_of_view_for_50mm_75mm = calculate_given_plate_scale_and_field_of_view(focal_length_mm=combined_focal_length_50_75_mm,\n",
    "                                                                                                       pixel_size_um=pixel_size_um,\n",
    "                                                                                                       detector_width_pixels=detector_width_pixels)\n",
    "\n",
    "plate_scale_for_31mm_75mm, field_of_view_for_31mm_75mm = calculate_given_plate_scale_and_field_of_view(focal_length_mm=combined_focal_length_31_75_mm,\n",
    "                                                                                                       pixel_size_um=pixel_size_um,\n",
    "                                                                                                       detector_width_pixels=detector_width_pixels)\n",
    "\n",
    "plate_scale_for_23mm_100mm, field_of_view_for_23mm_100mm = calculate_given_plate_scale_and_field_of_view(focal_length_mm=combined_focal_length_23_100_mm,\n",
    "                                                                                                       pixel_size_um=pixel_size_um,\n",
    "                                                                                                       detector_width_pixels=detector_width_pixels)\n",
    "\n",
    "                                                                                                      \n",
    "print(f\"For combining {focal_lengths_mm[0]} mm lens with {focal_lengths_mm[1]} mm lens, plate scale is {np.round(plate_scale_for_50mm_75mm,4)} (arcseconds / pixel) and field of view is {np.round(field_of_view_for_50mm_75mm, 4)} (arcseconds).\")\n",
    "print(f\"For combining {focal_lengths_mm[0]} mm lens with {np.round(combined_focal_length_31_75mm,4)} mm lens, plate scale is {np.round(plate_scale_for_50mm_75mm,4)} (arcseconds / pixel) and field of view is {np.round(field_of_view_for_31mm_75mm, 4)} (arcseconds).\")\n",
    "print(f\"For combining {focal_lengths_mm[0]} mm lens with {np.round(combined_focal_length_23_100mm,4)} mm lens, plate scale is {np.round(plate_scale_for_50mm_75mm,4)} (arcseconds / pixel) and field of view is {np.round(field_of_view_for_23mm_100mm, 4)} (arcseconds).\")\n",
    "\n",
    "                                                                                                      "
   ]
  },
  {
   "cell_type": "code",
   "execution_count": 74,
   "id": "1b4a8104-9bf3-47a3-99d9-b30ce0604701",
   "metadata": {},
   "outputs": [],
   "source": [
    "def distance_to_jupiter(focal_length_mm,\n",
    "                        size_of_jupiter_cm,\n",
    "                        size_of_jupiter_arcseconds):\n",
    "\n",
    "    theta_degrees = size_of_jupiter_arcseconds / 3600\n",
    "    distance_to_jupiter_cm = size_of_jupiter_cm / np.tan(theta_degrees)\n",
    "    return distance_to_jupiter_cm"
   ]
  },
  {
   "cell_type": "code",
   "execution_count": 76,
   "id": "8d6feab3-b81d-4ff4-a669-ed47c089422b",
   "metadata": {},
   "outputs": [
    {
     "name": "stdout",
     "output_type": "stream",
     "text": [
      "For combining 50 mm lens with 21.4205 mm lens, the distance to Jupiter is 13.8466 (cm).\n"
     ]
    }
   ],
   "source": [
    "smallest_distance_to_jupiter_cm = distance_to_jupiter(focal_length_mm=combined_focal_length_23_100mm,\n",
    "                                  size_of_jupiter_cm=width_of_jupiter_cm,\n",
    "                                  size_of_jupiter_arcseconds=width_of_jupiter_arcseconds)\n",
    "\n",
    "print(f\"For combining {focal_lengths_mm[0]} mm lens with {np.round(combined_focal_length_23_100mm,4)} mm lens, the distance to Jupiter is {np.round(smallest_distance_to_jupiter_cm,4)} (cm).\")\n"
   ]
  },
  {
   "cell_type": "markdown",
   "id": "ca055102-e3b6-41b4-864a-798852ef35f1",
   "metadata": {},
   "source": [
    "### With Experimental Values"
   ]
  },
  {
   "cell_type": "code",
   "execution_count": 69,
   "id": "6fe59942-ce37-441f-b72c-306a9d4d56bd",
   "metadata": {},
   "outputs": [],
   "source": [
    "distance_between_50mm_75mm_cm = 3.4 # cm"
   ]
  },
  {
   "cell_type": "code",
   "execution_count": 71,
   "id": "ee0bcb4e-4e93-4115-a1c7-0b8976bb94ad",
   "metadata": {},
   "outputs": [
    {
     "name": "stdout",
     "output_type": "stream",
     "text": [
      "Actual combined focal length of 50 mm lens and 75 mm lens is 41.2088 (mm).\n"
     ]
    }
   ],
   "source": [
    "actual_combined_focal_length_50_75mm = combined_focal_length_mm(focal_length_1_mm=focal_lengths_mm[0],\n",
    "                                                                focal_length_2_mm=focal_lengths_mm[1],\n",
    "                                                                distance_bewteen_lenses_cm=distance_between_50mm_75mm_cm)\n",
    "\n",
    "print(f\"Actual combined focal length of {np.round(focal_lengths_mm[0],4)} mm lens and {np.round(focal_lengths_mm[1],4)} mm lens is {np.round(actual_combined_focal_length_50_75mm,4)} (mm).\")\n"
   ]
  },
  {
   "cell_type": "code",
   "execution_count": 73,
   "id": "3b4602da-b91f-4714-820d-33d861c0ff4d",
   "metadata": {},
   "outputs": [
    {
     "name": "stdout",
     "output_type": "stream",
     "text": [
      "For combining 50 mm lens with 75 mm lens, the actaul plate scale is 12.0129 (arcseconds / pixel) and actual field of view is 17298.538 (arcseconds).\n"
     ]
    }
   ],
   "source": [
    "actual_plate_scale_for_50mm_75mm, actual_field_of_view_for_50mm_75mm = calculate_given_plate_scale_and_field_of_view(focal_length_mm=actual_combined_focal_length_50_75mm,\n",
    "                                                                                                                     pixel_size_um=pixel_size_um,\n",
    "                                                                                                                     detector_width_pixels=detector_width_pixels)\n",
    "\n",
    "print(f\"For combining {focal_lengths_mm[0]} mm lens with {focal_lengths_mm[1]} mm lens, the actaul plate scale is {np.round(actual_plate_scale_for_50mm_75mm,4)} (arcseconds / pixel) and actual field of view is {np.round(actual_field_of_view_for_50mm_75mm, 4)} (arcseconds).\")\n"
   ]
  },
  {
   "cell_type": "markdown",
   "id": "1a2a6e70-e5ad-4834-ab6e-7f9c7b624c4c",
   "metadata": {},
   "source": [
    "## Field of View & Plate Scale\n",
    "What is the plate scale achieved with your optical system that imaged the entire extent of Jupiter? What plate scale should be used to resolve Jupiter spots and smallest strucutres?"
   ]
  },
  {
   "cell_type": "code",
   "execution_count": 107,
   "id": "77487f08-a76c-4d3b-a59b-33290b985b14",
   "metadata": {},
   "outputs": [],
   "source": [
    "size_of_jupiter_small_spot_cm = .1 # cm\n",
    "distance_from_detector_to_jupiter_small_spot_cm = 3.5 + 1.4 + 3.4 + .9 + 9.5"
   ]
  },
  {
   "cell_type": "code",
   "execution_count": 108,
   "id": "06dc4c61-1756-40ca-86de-48ebc316e71e",
   "metadata": {},
   "outputs": [
    {
     "name": "stdout",
     "output_type": "stream",
     "text": [
      "Size of Jupiter's small spot is 1103.0098 (arcseconds).\n"
     ]
    }
   ],
   "source": [
    "size_of_jupiter_small_spot_arcseconds = calculate_jupiter_arcseconds(detector_width_pixels=detector_width_pixels,\n",
    "                                                                     pixel_size_um=pixel_size_um,\n",
    "                                                                     size_of_jupiter_cm=size_of_jupiter_small_spot_cm,\n",
    "                                                                     distance_from_detector_to_jupiter_cm=distance_from_detector_to_jupiter_small_spot_cm)\n",
    "\n",
    "print(f\"Size of Jupiter's small spot is {np.round(size_of_jupiter_small_spot_arcseconds,4)} (arcseconds).\")\n"
   ]
  },
  {
   "cell_type": "code",
   "execution_count": 109,
   "id": "39a01536-a913-4427-bfe3-20c2995a06df",
   "metadata": {},
   "outputs": [
    {
     "name": "stdout",
     "output_type": "stream",
     "text": [
      "Required plate scale for resolving Jupiter's small spot is 0.7879 (arcseconds / pixel).\n",
      "Field of view corresponding to required plate scale is 1134.5244 (arcseconds).\n"
     ]
    }
   ],
   "source": [
    "jupiter_small_spot_plate_scale, jupiter_small_spot_field_of_view = calculate_needed_plate_scale_and_field_of_view(size_of_object_arcseconds=size_of_jupiter_small_spot_arcseconds,\n",
    "                                                                                                                  detector_width_pixels=detector_width_pixels,\n",
    "                                                                                                                  number_of_pixels_to_resolve=number_of_pixels_to_resolve_jupiter)\n",
    "\n",
    "print(f\"Required plate scale for resolving Jupiter's small spot is {np.round(jupiter_small_spot_plate_scale,4)} (arcseconds / pixel).\")\n",
    "print(f\"Field of view corresponding to required plate scale is {np.round(jupiter_small_spot_field_of_view,4)} (arcseconds).\")\n"
   ]
  },
  {
   "cell_type": "code",
   "execution_count": 110,
   "id": "c7ce813a-a50e-4740-80b3-1caff341f68f",
   "metadata": {},
   "outputs": [],
   "source": [
    "distance_between_50mm_75mm_cm = (1.4 + 3.4 + .9) / 2"
   ]
  },
  {
   "cell_type": "code",
   "execution_count": 111,
   "id": "e54685d4-224b-461f-8a87-e932cf037195",
   "metadata": {},
   "outputs": [
    {
     "name": "stdout",
     "output_type": "stream",
     "text": [
      "Actual combined focal length of 50 mm lens and 75 mm lens is 38.8601 (mm).\n"
     ]
    }
   ],
   "source": [
    "small_spot_combined_focal_length_50_75mm = combined_focal_length_mm(focal_length_1_mm=focal_lengths_mm[0],\n",
    "                                                                    focal_length_2_mm=focal_lengths_mm[1],\n",
    "                                                                    distance_bewteen_lenses_cm=distance_between_50mm_75mm_cm)\n",
    "\n",
    "print(f\"Actual combined focal length of {np.round(focal_lengths_mm[0],4)} mm lens and {np.round(focal_lengths_mm[1],4)} mm lens is {np.round(small_spot_combined_focal_length_50_75mm,4)} (mm).\")\n"
   ]
  },
  {
   "cell_type": "code",
   "execution_count": 112,
   "id": "19430b88-329c-4673-8a6c-2578678bf4ef",
   "metadata": {},
   "outputs": [
    {
     "name": "stdout",
     "output_type": "stream",
     "text": [
      "For combining 50 mm lens with 75 mm lens, the actaul plate scale is 12.7389 (arcseconds / pixel) and actual field of view is 18344.054 (arcseconds).\n"
     ]
    }
   ],
   "source": [
    "small_spot_plate_scale_for_50mm_75mm, small_spot_field_of_view_for_50mm_75mm = calculate_given_plate_scale_and_field_of_view(focal_length_mm=small_spot_combined_focal_length_50_75mm,\n",
    "                                                                                                                             pixel_size_um=pixel_size_um,\n",
    "                                                                                                                             detector_width_pixels=detector_width_pixels)\n",
    "\n",
    "print(f\"For combining {focal_lengths_mm[0]} mm lens with {focal_lengths_mm[1]} mm lens, the actaul plate scale is {np.round(small_spot_plate_scale_for_50mm_75mm,4)} (arcseconds / pixel) and actual field of view is {np.round(small_spot_field_of_view_for_50mm_75mm, 4)} (arcseconds).\")\n"
   ]
  }
 ],
 "metadata": {
  "kernelspec": {
   "display_name": "Python 3 (ipykernel)",
   "language": "python",
   "name": "python3"
  },
  "language_info": {
   "codemirror_mode": {
    "name": "ipython",
    "version": 3
   },
   "file_extension": ".py",
   "mimetype": "text/x-python",
   "name": "python",
   "nbconvert_exporter": "python",
   "pygments_lexer": "ipython3",
   "version": "3.11.0"
  }
 },
 "nbformat": 4,
 "nbformat_minor": 5
}
