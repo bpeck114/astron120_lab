{
 "cells": [
  {
   "cell_type": "markdown",
   "id": "3093b616-6160-47ce-aa6d-025de7e575a7",
   "metadata": {},
   "source": [
    "# Lab #1 Images, optics, and the statistics of light\n",
    "## Section 3.1"
   ]
  },
  {
   "cell_type": "code",
   "execution_count": null,
   "id": "c3ca0955-7d56-4846-a018-545138a45420",
   "metadata": {},
   "outputs": [],
   "source": [
    "# Import necessary packages\n",
    "from glob import glob\n",
    "import os\n",
    "import numpy as np\n",
    "import astropy.io.fits as fits\n",
    "from astropy.visualization import PercentileInterval, ImageNormalize, SqrtStretch\n",
    "import matplotlib.pyplot as plt\n",
    "from photutils.aperture import ApertureStats, EllipticalAperture, aperture_photometry, CircularAnnulus\n",
    "import matplotlib.ticker as ticker"
   ]
  },
  {
   "cell_type": "code",
   "execution_count": null,
   "id": "29ff1200-074e-495e-a22e-16bd6952c6b3",
   "metadata": {},
   "outputs": [],
   "source": [
    "# Important analytical values\n",
    "#gain =\n",
    "#bias = \n",
    "#dark_current = \n",
    "#read_noise = \n",
    "#plate_scale =\n"
   ]
  },
  {
   "cell_type": "markdown",
   "id": "e3dbb9d4-578c-431d-989e-d5918b08fc1d",
   "metadata": {},
   "source": [
    "# Astronomical Measurements\n",
    "## 2.3.1 Photometry\n",
    "\n",
    "**Photometry:** \n",
    "\n",
    "**KEY STEPS:**\n",
    "1) Measure the flux and flux uncertainty of Jupiter-sim's red spot.\n",
    "2) Determine the signal-to-noise ratio on Jupiter-sim’s red spot in a 1 second integration"
   ]
  },
  {
   "cell_type": "code",
   "execution_count": null,
   "id": "afae1bec-fbca-4612-a1f7-1b8502cee678",
   "metadata": {},
   "outputs": [],
   "source": [
    "#spot_directory = # Path to star cluster files\n",
    "spot_files = glob(os.path.join(spot_directory, '*.fits'))\n",
    "\n",
    "print(f\"\\nFound {len(spot_files)} files in '{spot_directory}'.\\n\")"
   ]
  },
  {
   "cell_type": "code",
   "execution_count": null,
   "id": "7f7cdc43-23e2-4202-b4eb-2099825bb94a",
   "metadata": {},
   "outputs": [],
   "source": [
    "#flat_file =\n",
    "#dark_file = \n",
    "\n",
    "flat_frame = fits.getdata(flat_file) * gain\n",
    "dark_frame = fits.getdata(dark_file) * gain\n"
   ]
  },
  {
   "cell_type": "code",
   "execution_count": null,
   "id": "0bb3dc21-ea8d-47a5-b192-a035bb03adac",
   "metadata": {},
   "outputs": [],
   "source": [
    "sum_spot_data = np.zeros_like(fits.getdata(spot_files[0]))\n",
    "one_spot = []\n",
    "\n",
    "for spot_file in spot_files:\n",
    "    unclean_spot_data = fits.getdata(spot_file) * gain\n",
    "    spot_data = (unclean_spot_data - dark_frame) / (flat_frame - dark_frame)\n",
    "    \n",
    "    sum_spot_data += spot_data\n",
    "\n",
    "    if spot_file == spot_files[0]:\n",
    "        one_spot.append(spot_data)\n",
    "\n",
    "unflipped_image_data = sum_spot_data / len(spot_files)\n",
    "mean_spot_data = np.flipud(unflipped_image_data)\n",
    "\n",
    "one_spot_data = np.flipud(np.array(one_spot))\n",
    "\n",
    "interval = PercentileInterval(99) # Get rid of extreme outliers\n",
    "vmin, vmax = interval.get_limits(mean_spot_data)\n",
    "norm = ImageNormalize(mean_spot_data, vmin=vmin, vmax=vmax, stretch=SqrtStretch())\n",
    "\n",
    "plt.figure(figsize=(6, 6))\n",
    "plt.title(\"Unprocssed Image of Jupiter's Red Spot\")\n",
    "plt.xlabel('X Index (pixels)')\n",
    "plt.ylabel('Y Index (pixels)')\n",
    "#plt.scatter(x_center, y_center, color='green', label='Center')\n",
    "plt.imshow(mean_spot_data, cmap='copper', origin='lower')\n",
    "plt.show()"
   ]
  },
  {
   "cell_type": "code",
   "execution_count": null,
   "id": "33bb864e-192a-4b97-aa2b-8f596e31ab65",
   "metadata": {},
   "outputs": [],
   "source": [
    "semi_minor_axis = 38\n",
    "semi_major_axis = 50\n",
    "\n",
    "x_center = 870\n",
    "y_center = 370\n",
    "\n",
    "center = ([810, 540])\n",
    "\n",
    "theta = np.pi / 2\n",
    "\n",
    "ellipse_aperture = EllipticalAperture((x_center, y_center), semi_minor_axis, semi_major_axis, theta)\n",
    "annulus_aperture = CircularAnnulus(center, r_in=550, r_out=580)\n",
    "\n",
    "fig, ax = plt.subplots(figsize=(10, 6))\n",
    "\n",
    "one_spot_data= np.squeeze(np.flipud(one_spot_data))\n",
    "\n",
    "#ellipse_aperture.plot(color='white')\n",
    "ax.set_title(\"Normalized: Zoomed-in Jupiter's Red Spot\", fontsize=16)\n",
    "ax.set_xlabel('X Index (pixels)', fontsize=16)\n",
    "ax.set_ylabel('Y Index (pixels)', fontsize=16)\n",
    "ax.scatter(x_center, y_center, color='green', label = 'Center')\n",
    "img = ax.imshow(one_spot_data, cmap='gist_heat', origin='lower')\n",
    "ellipse_aperture.plot(color='black', lw=2)\n",
    "annulus_aperture.plot(color='red', lw=2)\n",
    "center_legend_line = plt.Line2D([0], [0], marker='o', color='g', lw=0, label='Center')\n",
    "aperture_legend_line = plt.Line2D([0], [0], color='black', lw=3, label='Aperture')\n",
    "annulus_legend_line = plt.Line2D([0], [0], color='red', lw=3, label='Annulus')\n",
    "legend2 = ax.legend(handles=[aperture_legend_line, center_legend_line], loc='upper left', fontsize=12)\n",
    "legend2.get_frame().set_alpha(.3)\n",
    "plt.setp(legend2.get_texts(), color='black')\n",
    "\n",
    "cbar = fig.colorbar(img)\n",
    "cbar.ax.tick_params(labelsize=12)\n",
    "img.set_clim(vmin=vmin, vmax=vmax) \n",
    "\n",
    "cbar.set_label('Pixel Intensity', fontsize=16)\n",
    "\n",
    "\n",
    "plt.show()"
   ]
  },
  {
   "cell_type": "code",
   "execution_count": null,
   "id": "089a212c-3018-40d6-b98f-58b5706e3c20",
   "metadata": {},
   "outputs": [],
   "source": [
    "aperture_stats_emp = ApertureStats(one_spot_data, ellipse_aperture)\n",
    "annulus_stats_emp = ApertureStats(one_spot_data, annulus_aperture)\n",
    "sum_signal_emp = aperture_stats_emp.sum\n",
    "mean_background_emp = annulus_stats_emp.mean\n",
    "aperture_area_emp = ellipse_aperture.area_overlap(one_spot_data)\n",
    "\n",
    "print(f\"\\nMeasured signal from the spot is {np.round(sum_signal_emp)} (electrons).\")\n",
    "print(f\"Background is {mean_background_emp} (electrons/pixel).\\n\")"
   ]
  },
  {
   "cell_type": "code",
   "execution_count": null,
   "id": "47af753c-e63d-4e4c-8953-2d69bcce0e5b",
   "metadata": {},
   "outputs": [],
   "source": [
    "aperture_stats = ApertureStats(mean_spot_data, ellipse_aperture)\n",
    "annulus_stats = ApertureStats(mean_spot_data, annulus_aperture)\n",
    "sum_signal = aperture_stats.sum\n",
    "mean_background = annulus_stats.mean\n",
    "aperture_area = ellipse_aperture.area_overlap(mean_spot_data)\n",
    "\n",
    "print(f\"\\nMeasured signal from the spot is {np.round(sum_signal)} (electrons).\")\n",
    "print(f\"Background is {mean_background} (electrons/pixel).\\n\")"
   ]
  },
  {
   "cell_type": "code",
   "execution_count": null,
   "id": "247ea4aa-e785-4ba3-98c1-80e74c010324",
   "metadata": {},
   "outputs": [],
   "source": [
    "measured_signal_emp = sum_signal_emp \n",
    "uncertainty_measured_signal_emp = np.sqrt(sum_signal_emp)\n",
    "\n",
    "empirical_signal_to_noise_ratio_emp = measured_signal_emp / uncertainty_measured_signal_emp\n",
    "\n",
    "print(f\"\\nThe analytical signal-to-noise ratio is {np.round(empirical_signal_to_noise_ratio_emp, 2)}.\")\n",
    "print(f\"Jupiter's analytical flux is {np.round(measured_signal_emp)} +/- {np.round(uncertainty_measured_signal_emp)} (electrons) .\\n\")\n",
    "print(f\"Jupiter's analytical flux is {np.round(measured_signal_emp)} +/- {np.round(uncertainty_measured_signal_emp)} (electrons) .\\n\")\n",
    "\n"
   ]
  },
  {
   "cell_type": "code",
   "execution_count": null,
   "id": "f1e189e4-5211-49ef-8733-d1d1b23a7416",
   "metadata": {},
   "outputs": [],
   "source": [
    "measured_signal = sum_signal - (mean_background) - (bias) - (dark_current)\n",
    "uncertainty_measured_signal = np.sqrt(sum_signal - (mean_background * aperture_area) - bias - (dark_current * aperture_area))\n",
    "\n",
    "analytical_signal_to_noise_ratio = measured_signal / uncertainty_measured_signal\n",
    "\n",
    "print(f\"\\nThe analytical signal-to-noise ratio is {np.round(analytical_signal_to_noise_ratio, 2)}.\")\n",
    "print(f\"Jupiter's analytical flux is {np.round(measured_signal)} +/- {np.round(uncertainty_measured_signal)} (electrons) .\\n\")\n",
    "print(f\"Jupiter's analytical flux is {np.round(measured_signal)} +/- {np.round(uncertainty_measured_signal)} (electrons) .\\n\")\n",
    "\n"
   ]
  }
 ],
 "metadata": {
  "kernelspec": {
   "display_name": "Python 3 (ipykernel)",
   "language": "python",
   "name": "python3"
  },
  "language_info": {
   "codemirror_mode": {
    "name": "ipython",
    "version": 3
   },
   "file_extension": ".py",
   "mimetype": "text/x-python",
   "name": "python",
   "nbconvert_exporter": "python",
   "pygments_lexer": "ipython3",
   "version": "3.11.0"
  }
 },
 "nbformat": 4,
 "nbformat_minor": 5
}
