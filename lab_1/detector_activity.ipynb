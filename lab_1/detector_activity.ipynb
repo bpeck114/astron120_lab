{
 "cells": [
  {
   "cell_type": "code",
   "execution_count": null,
   "id": "35ba8add",
   "metadata": {
    "id": "35ba8add"
   },
   "outputs": [],
   "source": [
    "import numpy as np\n",
    "from astropy.io import fits\n",
    "import struct\n",
    "import numpy as np\n",
    "from glob import glob\n",
    "\n",
    "import matplotlib.pyplot as plt\n",
    "\n",
    "%matplotlib inline\n",
    "\n",
    "def raw_to_fits(raw_file, shape=(1080,1440), destination=None, ADC_bits = 12, simu_artifacts = False):\n",
    "    \"\"\"\n",
    "    Converts a .raw file to a FITS formatted image\n",
    "    raw_file : The file path of the raw image\n",
    "    shape : A list or tuple with (# of rows, # of columns) for the image\n",
    "    destination : an alternate destination/filename for the FITS image\n",
    "       (default is to replace the .raw extension and save in the same folder)\n",
    "    \"\"\"\n",
    "    tint = float(raw_file.split(\"us.raw\")[0].split(\"_\")[-1])/1e6\n",
    "\n",
    "    # Get shape of image\n",
    "    nrows, ncols = shape\n",
    "    # Open raw file\n",
    "    with open(raw_file, 'rb') as raw:\n",
    "        raw_img = raw.read()\n",
    "    # Check file size / format\n",
    "    filesize = len(raw_img)\n",
    "    if filesize == nrows*ncols: # 8-bit\n",
    "        size = 'B'\n",
    "        file_bits = 8\n",
    "    elif filesize == nrows*ncols*2: # 16-bit\n",
    "        size = 'H'\n",
    "        file_bits = 16\n",
    "    else: # No size match\n",
    "        raise ValueError(\"The image shape provided does not match the length of the file\")\n",
    "    # Format binary string\n",
    "    fmt = f\"<{nrows*ncols}{size}\"\n",
    "    # Convert byte string to numpy array\n",
    "    byte_array = np.array(struct.unpack(fmt, raw_img)).reshape(nrows, ncols)\n",
    "    if file_bits > ADC_bits:\n",
    "        byte_array = byte_array/2**(file_bits-ADC_bits)\n",
    "\n",
    "    if simu_artifacts:\n",
    "        ny,nx = byte_array.shape\n",
    "\n",
    "        # Adding dark\n",
    "        dark_current = 1.25 #ADU/s\n",
    "        byte_array += dark_current*tint\n",
    "\n",
    "        # multiplying flat\n",
    "        x_grid,y_grid = np.meshgrid(np.arange(nx),np.arange(ny))\n",
    "        flat_field = np.exp(-0.5*((x_grid - nx//2)**2/(3*nx)**2+(y_grid - ny//2)**2/(3*ny)**2))\n",
    "        byte_array *= flat_field\n",
    "\n",
    "        state = np.random.get_state()\n",
    "        np.random.seed(0)\n",
    "\n",
    "        # adding hot pixels\n",
    "        hot_pix_indices = np.random.randint(0, high=nx*ny-1, size=int(0.01*nx*ny))\n",
    "        hot_pix_indices = np.unravel_index(hot_pix_indices, (ny,nx))\n",
    "        byte_array[hot_pix_indices] *= tint*np.clip(30*np.random.randn(int(0.01*nx*ny)),dark_current,2**ADC_bits)\n",
    "\n",
    "        # adding cold pixels\n",
    "        cold_pix_indices = np.random.randint(0, high=nx*ny-1, size=int(0.01*nx*ny))\n",
    "        cold_pix_indices = np.unravel_index(cold_pix_indices, (ny,nx))\n",
    "        byte_array[cold_pix_indices] *= np.random.uniform(0,0.5,size=int(0.01*nx*ny))\n",
    "\n",
    "        np.random.set_state(state)\n",
    "\n",
    "        # Adding bias\n",
    "        byte_array += 64\n",
    "\n",
    "        # adding readnoise\n",
    "        readnoise = 3 #ADU\n",
    "        byte_array += readnoise*np.random.randn(ny,nx)\n",
    "\n",
    "        byte_array = np.clip(byte_array,0,2**ADC_bits)\n",
    "\n",
    "    # FITS file name\n",
    "    if destination is None:\n",
    "        fits_file = raw_file.replace('.raw', '.fits')\n",
    "    else:\n",
    "        fits_file = destination\n",
    "    if simu_artifacts:\n",
    "        fits_file = fits_file.replace(\".fits\", \"_simu.fits\")\n",
    "    # Save as FITS\n",
    "    hdu = fits.PrimaryHDU(byte_array)\n",
    "    hdu.writeto(fits_file,overwrite=True)\n",
    "\n"
   ]
  },
  {
   "cell_type": "markdown",
   "id": "z9XIi5wI6OhU",
   "metadata": {
    "id": "z9XIi5wI6OhU"
   },
   "source": []
  },
  {
   "cell_type": "code",
   "execution_count": null,
   "id": "yWyON6Dg6O39",
   "metadata": {
    "id": "yWyON6Dg6O39"
   },
   "outputs": [],
   "source": []
  },
  {
   "cell_type": "code",
   "execution_count": null,
   "id": "kiut_xhX6QUr",
   "metadata": {
    "colab": {
     "base_uri": "https://localhost:8080/"
    },
    "id": "kiut_xhX6QUr",
    "outputId": "9be38d13-88e6-41e1-d650-a3ae038610fd"
   },
   "outputs": [
    {
     "name": "stdout",
     "output_type": "stream",
     "text": [
      "Drive already mounted at /content/drive; to attempt to forcibly remount, call drive.mount(\"/content/drive\", force_remount=True).\n"
     ]
    }
   ],
   "source": [
    "from google.colab import drive\n",
    "drive.mount('/content/drive')"
   ]
  },
  {
   "cell_type": "code",
   "execution_count": null,
   "id": "LvHxsvM2Ly22",
   "metadata": {
    "id": "LvHxsvM2Ly22"
   },
   "outputs": [],
   "source": []
  },
  {
   "cell_type": "code",
   "execution_count": null,
   "id": "c0df8a6a",
   "metadata": {
    "colab": {
     "base_uri": "https://localhost:8080/"
    },
    "id": "c0df8a6a",
    "outputId": "e09a85e3-046b-4a98-cb65-6a8bbd862cd3"
   },
   "outputs": [
    {
     "name": "stdout",
     "output_type": "stream",
     "text": [
      "/content/drive/Shareddrives/AY120_2024/Student Data Files/Lab #1 Data Files/Lab #1 Group 6A/lab1jupiter_10000us.raw\n",
      "/content/drive/Shareddrives/AY120_2024/Student Data Files/Lab #1 Data Files/Lab #1 Group 6A/lab1jupiter_10000us.raw\n"
     ]
    }
   ],
   "source": [
    "\n",
    "# Press the green button in the gutter to run the script.\n",
    "mydir = \"/content/drive/Shareddrives/AY120_2024/Student Data Files/Lab #1 Data Files/Lab #1 Group 6A/lab1jupiter_10000us.raw\"\n",
    "\n",
    "print(mydir)\n",
    "for filename in glob(mydir):\n",
    "    if len(glob(filename.replace(\".raw\",\".fits\"))) >= 1:\n",
    "        continue\n",
    "    print(filename)\n",
    "    # try both (width, height) and (height, width) for the shape keyword in case the image is funky with stripes.\n",
    "   # raw_to_fits(filename, shape=(1536,2048))\n",
    "    #raw_to_fits(filename, shape=(1080,1440))\n",
    "    raw_to_fits(filename, shape=(1240,1616))"
   ]
  },
  {
   "cell_type": "code",
   "execution_count": null,
   "id": "6e12b401",
   "metadata": {
    "id": "6e12b401"
   },
   "outputs": [],
   "source": []
  },
  {
   "cell_type": "code",
   "execution_count": null,
   "id": "719b82ad",
   "metadata": {
    "id": "719b82ad"
   },
   "outputs": [],
   "source": []
  }
 ],
 "metadata": {
  "colab": {
   "provenance": []
  },
  "kernelspec": {
   "display_name": "Python 3 (ipykernel)",
   "language": "python",
   "name": "python3"
  },
  "language_info": {
   "codemirror_mode": {
    "name": "ipython",
    "version": 3
   },
   "file_extension": ".py",
   "mimetype": "text/x-python",
   "name": "python",
   "nbconvert_exporter": "python",
   "pygments_lexer": "ipython3",
   "version": "3.11.0"
  }
 },
 "nbformat": 4,
 "nbformat_minor": 5
}
