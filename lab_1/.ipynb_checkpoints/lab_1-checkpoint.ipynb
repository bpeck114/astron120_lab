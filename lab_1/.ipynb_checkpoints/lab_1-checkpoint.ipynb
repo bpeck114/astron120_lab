{
 "cells": [
  {
   "cell_type": "markdown",
   "id": "82de3597-261b-44ab-9e2a-5ead4c38cb31",
   "metadata": {},
   "source": [
    "# Lab #1 Images, optics, and the statistics of light"
   ]
  },
  {
   "cell_type": "code",
   "execution_count": null,
   "id": "61a01545-d63b-4ec7-ac84-f96b95681649",
   "metadata": {},
   "outputs": [],
   "source": [
    "# Import necessary packages\n",
    "import os\n",
    "import math\n",
    "import shutil\n",
    "import struct\n",
    "import numpy as np\n",
    "import matplotlib.pyplot as plt\n",
    "import glob\n",
    "from astropy.io import fits\n",
    "from scipy.stats import linregress"
   ]
  },
  {
   "cell_type": "markdown",
   "id": "87b759b9-0723-438d-b5fa-d6b22979ec46",
   "metadata": {},
   "source": [
    "# Optical Imager\n",
    "**KEY STEPS:**\n",
    "- **Build an optical system that can image the full extent of a Jupiter-sim, resolve Jupiter-sim’s red spot, and separate stars in a globular cluster-sim.**\n",
    "- **Record your imager’s optical design, field-of-view, spatial resolution, and plate scale.**\n",
    "- **How does your imager’s spatial resolution compare to the diffraction limit of your optical system?**\n",
    "\n"
   ]
  },
  {
   "cell_type": "markdown",
   "id": "24c516e9-07ba-4c06-bb23-70eece4d0f2c",
   "metadata": {},
   "source": [
    "*GOAL*: Map an object to an image plane (image formation). \\\n",
    "\\\n",
    "**Thin-lens equation**:\n",
    "\n",
    "$$\n",
    "\\frac{1}{f} = \\frac{1}{i} + \\frac{1}{o},\n",
    "$$\n",
    "where $f = \\text{focal length of thin lens}$, $o = \\text{distance from object to thin lens}$ and $i = \\text{distance from image to thin lens}$. \n",
    "\n",
    "**Focal length** = determines how strongly a system converges or diverges recieved light, determines the extent of an image and the distance between two imaged objects on the focal plane. \\\n",
    "**Focal plane** = where your image comes to a focus \\\n",
    "**Combination of two lenses equation:** \n",
    "$$\n",
    "\\frac{1}{F} = \\frac{1}{f_1} + \\frac{1}{f_2} - \\frac{d}{f_1 * f_2}\n",
    "$$\n",
    "\n",
    "where $F = \\text{combined focal length}$, $f_1 = \\text{focal length of lens 1}$, $f_2 = \\text{focal length of lens 2}$ and $d = \\text{distance between lenses}$."
   ]
  },
  {
   "cell_type": "markdown",
   "id": "679a21f6-c980-4045-b118-de8f420aa50b",
   "metadata": {},
   "source": [
    "### Parameters"
   ]
  },
  {
   "cell_type": "code",
   "execution_count": null,
   "id": "cf63fa13-7494-4c71-9e3d-d4e360b5b4d9",
   "metadata": {},
   "outputs": [],
   "source": [
    "# Detector\n",
    "detector_width_pixels = 1440\n",
    "detector_height_pixels = 1080\n",
    "pixel_size_um = 2.4\n",
    "wavelength_of_detector_nm = 500"
   ]
  },
  {
   "cell_type": "code",
   "execution_count": null,
   "id": "3be812bd-9cb3-499c-98e8-cab48ba054c5",
   "metadata": {},
   "outputs": [],
   "source": [
    "# Lenses\n",
    "focal_lengths_mm = [50, 75, 75, 100]"
   ]
  },
  {
   "cell_type": "markdown",
   "id": "f54651b7-da79-4e15-9cf5-e34094ead3f0",
   "metadata": {},
   "source": [
    "## 1.1 Plate Scale\n",
    "*GOAL*: Determine an optimal imaging system with a plate scale that would allow to resolve two successive lines of the provided Ronchi mask. \\\n",
    "\\\n",
    "**Plate scale** = angular size of an object that can be imaged onto a particular linear size on the focal plane (angle / unit length) (radians / mm) (*prefered*: arcseconds / pixel)\n",
    "\n",
    "\n",
    "$$\n",
    "\\begin{split}\n",
    "\\text{Plate Scale } (p) & = \\frac{\\text{angular separation}\\,(\\text{radians})}{\\text{linear separation} (\\text{mm})} = \\frac{\\text{pixel size (mm)}}{\\text{focal length (mm)}} = \\frac{\\text{radians}}{\\text{pixel}} * \\left(\\frac{206265\\,\\text{arcseconds}}{1\\,\\text{radian}} \\right) = \\frac{\\text{arcseconds}}{\\text{pixel}}\n",
    "\\end{split}\n",
    "$$\n",
    "Note 1: Larger plate scale = larger field of view, smaller plate scale = larger angular resolution\n",
    "Note 2: Larger focal length = smaller plate scale, smaller focal length = larger plate scale\n",
    "Note 3: Larger focal length = smaller field of view, smaller focal length = larger field of view"
   ]
  },
  {
   "cell_type": "markdown",
   "id": "44a8eeb6-e390-4ef1-8994-017176995bd2",
   "metadata": {},
   "source": [
    "### Pre-known Parameters\n",
    "By testing our optical setup, we can determine the distance between Ronchi lines"
   ]
  },
  {
   "cell_type": "code",
   "execution_count": null,
   "id": "80b0553b-39ba-4edf-b6a5-983313d6a848",
   "metadata": {},
   "outputs": [],
   "source": [
    "number_of_ronchi_lines = 22\n",
    "distance_from_detector_to_ronchi_lines_cm = 7.5 + .9 + 22.7 + .9 + 7.6 # cm"
   ]
  },
  {
   "cell_type": "code",
   "execution_count": null,
   "id": "ed3aa72b-3758-4eda-b0ed-7c854b89d974",
   "metadata": {},
   "outputs": [],
   "source": [
    "def calculate_ronchi_line_separation_mm_and_arcseconds(number_of_ronchi_lines,\n",
    "                                                       detector_width_pixels,\n",
    "                                                       pixel_size_um,\n",
    "                                                       distance_from_detector_to_ronchi_lines_cm):\n",
    "    # mm\n",
    "    pixel_size_mm = pixel_size_um / 1000 # Convert micro to milli         \n",
    "    detector_width_mm = detector_width_pixels * pixel_size_mm \n",
    "    line_separation_mm = detector_width_mm / (number_of_ronchi_lines - 1)\n",
    "\n",
    "    # arcseconds\n",
    "    distance_from_detector_to_ronchi_lines_mm = distance_from_detector_to_ronchi_lines_cm * 10 # mm\n",
    "    theta_radians = math.atan(line_separation_mm / distance_from_detector_to_ronchi_lines_mm) #radians\n",
    "    theta_degrees = math.degrees(theta_radians) # degrees \n",
    "    theta_arcseconds = theta_degrees * 3600 # arcseconds\n",
    "                                                           \n",
    "    return line_separation_mm, theta_arcseconds"
   ]
  },
  {
   "cell_type": "code",
   "execution_count": null,
   "id": "c8833709-5ba1-4c14-b463-3d84cccbae3a",
   "metadata": {},
   "outputs": [],
   "source": [
    "ronchi_line_separation_mm, ronchi_line_separation_arcseconds = calculate_ronchi_line_separation_mm_and_arcseconds(number_of_ronchi_lines=number_of_ronchi_lines,\n",
    "                                                                                                                  detector_width_pixels=detector_width_pixels,\n",
    "                                                                                                                  pixel_size_um=pixel_size_um,\n",
    "                                                                                                                  distance_from_detector_to_ronchi_lines_cm=distance_from_detector_to_ronchi_lines_cm)\n",
    "\n",
    "print(f\"Separation between Ronchi lines is {np.round(ronchi_line_separation_mm,4)} (mm).\")\n",
    "print(f\"Separation between Ronchi lines is {np.round(ronchi_line_separation_arcseconds,4)} (arcseconds).\")"
   ]
  },
  {
   "cell_type": "markdown",
   "id": "845091f2-9e56-4775-b0e7-aa7579fc215b",
   "metadata": {},
   "source": [
    "### Determining Plate-Scale"
   ]
  },
  {
   "cell_type": "code",
   "execution_count": null,
   "id": "f6eefe51-6c49-476a-92ca-bf2fea609cfe",
   "metadata": {},
   "outputs": [],
   "source": [
    "number_of_pixels_to_resolve = 13"
   ]
  },
  {
   "cell_type": "code",
   "execution_count": null,
   "id": "3ed897a3-82fe-4fb1-848d-47a9fa89e60b",
   "metadata": {},
   "outputs": [],
   "source": [
    "def calculate_needed_plate_scale_and_field_of_view(size_of_object_arcseconds,\n",
    "                                                   detector_width_pixels,\n",
    "                                                   number_of_pixels_to_resolve):\n",
    "    # Plate-scale\n",
    "    plate_scale = size_of_object_arcseconds / number_of_pixels_to_resolve\n",
    "                                                       \n",
    "    # Field of View\n",
    "    field_of_view = plate_scale * detector_width_pixels\n",
    "                                                       \n",
    "    return plate_scale, field_of_view"
   ]
  },
  {
   "cell_type": "code",
   "execution_count": null,
   "id": "59a4d0c9-f3b8-4279-8322-0522a3da60f9",
   "metadata": {},
   "outputs": [],
   "source": [
    "ronchi_lines_plate_scale, ronchi_lines_field_of_view = calculate_needed_plate_scale_and_field_of_view(size_of_object_arcseconds=ronchi_line_separation_arcseconds,\n",
    "                                                                                                      detector_width_pixels=detector_width_pixels,\n",
    "                                                                                                      number_of_pixels_to_resolve=number_of_pixels_to_resolve)\n",
    "\n",
    "                                                                                                      \n",
    "print(f\"Required plate scale for Ronchi line separation is {np.round(ronchi_lines_plate_scale,4)} (arcseconds / pixel).\")\n",
    "print(f\"Field of view corresponding to required plate scale is {np.round(ronchi_lines_field_of_view,4)} (arcseconds).\")\n",
    "                                                                                                      "
   ]
  },
  {
   "cell_type": "code",
   "execution_count": null,
   "id": "c960764e-3e52-468c-84a2-ca268800b62c",
   "metadata": {},
   "outputs": [],
   "source": [
    "def calculate_given_plate_scale_and_field_of_view(focal_length_mm,\n",
    "                                                  pixel_size_um,\n",
    "                                                  detector_width_pixels):\n",
    "    pixel_size_mm = pixel_size_um / 1000\n",
    "    plate_scale = (206265 * pixel_size_mm) / focal_length_mm\n",
    "    field_of_view = plate_scale * detector_width_pixels\n",
    "    return plate_scale, field_of_view"
   ]
  },
  {
   "cell_type": "code",
   "execution_count": null,
   "id": "5c449fea-0ab0-4976-acad-d866663566eb",
   "metadata": {},
   "outputs": [],
   "source": [
    "plate_scale_for_50mm, field_of_view_for_50mm = calculate_given_plate_scale_and_field_of_view(focal_length_mm=focal_lengths_mm[0],\n",
    "                                                                                             pixel_size_um=pixel_size_um,\n",
    "                                                                                             detector_width_pixels=detector_width_pixels)\n",
    "\n",
    "plate_scale_for_75mm, field_of_view_for_75mm = calculate_given_plate_scale_and_field_of_view(focal_length_mm=focal_lengths_mm[1],\n",
    "                                                                                             pixel_size_um=pixel_size_um,\n",
    "                                                                                             detector_width_pixels=detector_width_pixels)\n",
    "\n",
    "plate_scale_for_100mm, field_of_view_for_100mm = calculate_given_plate_scale_and_field_of_view(focal_length_mm=focal_lengths_mm[3],\n",
    "                                                                                              pixel_size_um=pixel_size_um,\n",
    "                                                                                              detector_width_pixels=detector_width_pixels)\n",
    "\n",
    "print(f\"For {focal_lengths_mm[0]}mm lens, plate scale is {np.round(plate_scale_for_50mm,4)} (arcseconds / pixel) and field of view is {np.round(field_of_view_for_50mm, 4)} (arcseconds).\") \n",
    "print(f\"For {focal_lengths_mm[1]}mm lens, plate scale is {np.round(plate_scale_for_75mm,4)} (arcseconds / pixel) and field of view is {np.round(field_of_view_for_75mm, 4)} (arcseconds).\") \n",
    "print(f\"For {focal_lengths_mm[3]}mm lens, plate scale is {np.round(plate_scale_for_100mm,4)} (arcseconds / pixel) and field of view is {np.round(field_of_view_for_100mm, 4)} (arcseconds).\") "
   ]
  },
  {
   "cell_type": "markdown",
   "id": "08b27a96-1993-4cfd-bd82-dbdc8ed39828",
   "metadata": {},
   "source": [
    "### Calculating Diffraction-limit of Detector"
   ]
  },
  {
   "cell_type": "code",
   "execution_count": null,
   "id": "ac38a90e-66ff-450b-840b-63aa5d1b05c7",
   "metadata": {},
   "outputs": [],
   "source": [
    "def calculate_diffraction_limit_arcseconds(wavelength_of_detector_nm, pixel_size_um, detector_width_pixels):\n",
    "    pixel_size_nm = pixel_size_um * 1000 # um to nm\n",
    "    detector_width_nm = detector_width_pixels * pixel_size_nm \n",
    "\n",
    "    diffraction_limit_of_detector_radians = 1.22 * (wavelength_of_detector_nm / detector_width_nm)\n",
    "    diffraction_limit_of_detector_arcseconds = diffraction_limit_of_detector_radians * 206265\n",
    "\n",
    "    return diffraction_limit_of_detector_arcseconds"
   ]
  },
  {
   "cell_type": "code",
   "execution_count": null,
   "id": "edc7cacc-67dc-48b6-b428-7d09adedcbd8",
   "metadata": {},
   "outputs": [],
   "source": [
    "diffraction_limit_of_detector_arcseconds = calculate_diffraction_limit_arcseconds(wavelength_of_detector_nm=wavelength_of_detector_nm,\n",
    "                                                                                  pixel_size_um=pixel_size_um,\n",
    "                                                                                  detector_width_pixels=detector_width_pixels)\n",
    "\n",
    "print(f\"Diffraction limit: {diffraction_limit_of_detector_arcseconds:.2f} arcseconds\")"
   ]
  },
  {
   "cell_type": "markdown",
   "id": "07aa0ffa-88df-4cab-98fc-6191e5e2fe84",
   "metadata": {},
   "source": [
    "## 1.2 Field of View\n",
    "*GOAL*: Determine an optimal imaging system that is capable of imaging the entire extent of Jupiter in a single exposure."
   ]
  },
  {
   "cell_type": "code",
   "execution_count": null,
   "id": "bb9606d6-4163-4aed-aca9-0347584ec19f",
   "metadata": {},
   "outputs": [],
   "source": [
    "height_of_jupiter_cm = 10.3\n",
    "width_of_jupiter_cm = 11.0\n",
    "distance_from_detector_to_jupiter_cm = .75 + 1.4 + 4.5 + .9 + 157.5 \n",
    "number_of_pixels_to_resolve_jupiter = 1000"
   ]
  },
  {
   "cell_type": "code",
   "execution_count": null,
   "id": "cf48408b-cc4e-433d-9b08-8818adb329a9",
   "metadata": {},
   "outputs": [],
   "source": [
    "def calculate_jupiter_arcseconds(detector_width_pixels,\n",
    "                                 pixel_size_um,\n",
    "                                 size_of_jupiter_cm,\n",
    "                                 distance_from_detector_to_jupiter_cm):\n",
    "\n",
    "    # arcseconds\n",
    "    distance_from_detector_to_jupiter_mm = distance_from_detector_to_jupiter_cm * 10 # cm to mm\n",
    "    size_of_jupiter_mm = size_of_jupiter_cm * 10 # cm to mm\n",
    "    theta_radians = math.atan(size_of_jupiter_mm / distance_from_detector_to_jupiter_mm) #radians\n",
    "    theta_degrees = math.degrees(theta_radians) # degrees \n",
    "    theta_arcseconds = theta_degrees * 3600 # arcseconds\n",
    "                                                           \n",
    "    return theta_arcseconds"
   ]
  },
  {
   "cell_type": "code",
   "execution_count": null,
   "id": "d9695d31-9720-4428-bf9c-281921ebb41f",
   "metadata": {},
   "outputs": [],
   "source": [
    "height_of_jupiter_arcseconds = calculate_jupiter_arcseconds(detector_width_pixels=detector_width_pixels,\n",
    "                                                            pixel_size_um=pixel_size_um,\n",
    "                                                            size_of_jupiter_cm=height_of_jupiter_cm,\n",
    "                                                            distance_from_detector_to_jupiter_cm=distance_from_detector_to_jupiter_cm)\n",
    "\n",
    "width_of_jupiter_arcseconds = calculate_jupiter_arcseconds(detector_width_pixels=detector_width_pixels,\n",
    "                                                           pixel_size_um=pixel_size_um,\n",
    "                                                           size_of_jupiter_cm=width_of_jupiter_cm,\n",
    "                                                           distance_from_detector_to_jupiter_cm=distance_from_detector_to_jupiter_cm)\n",
    "\n",
    "print(f\"Height of Jupiter is {np.round(height_of_jupiter_arcseconds,4)} (arcseconds) and width of Jupiter is {np.round(width_of_jupiter_arcseconds,4)} (arcseconds).\")"
   ]
  },
  {
   "cell_type": "code",
   "execution_count": null,
   "id": "a06b4162-98c7-4a0c-8361-15267d01507d",
   "metadata": {},
   "outputs": [],
   "source": [
    "jupiter_plate_scale, jupiter_field_of_view = calculate_needed_plate_scale_and_field_of_view(size_of_object_arcseconds=width_of_jupiter_arcseconds,\n",
    "                                                                                            detector_width_pixels=detector_width_pixels,\n",
    "                                                                                            number_of_pixels_to_resolve=number_of_pixels_to_resolve_jupiter)\n",
    "\n",
    "print(f\"Required plate scale for resolving Jupiter is {np.round(jupiter_plate_scale,4)} (arcseconds / pixel).\")\n",
    "print(f\"Field of view corresponding to required plate scale is {np.round(jupiter_field_of_view,4)} (arcseconds).\")"
   ]
  },
  {
   "cell_type": "markdown",
   "id": "a77b3393-c974-4b43-9876-f47c8b7c6663",
   "metadata": {},
   "source": [
    "### Combination of Lenses"
   ]
  },
  {
   "cell_type": "code",
   "execution_count": null,
   "id": "636a5b6e-0b4a-4901-8c9c-b4000167adcb",
   "metadata": {},
   "outputs": [],
   "source": [
    "minimum_distance_between_50mm_75mm_cm = .7 # cm\n",
    "minimum_distance_between_75mm_75mm_cm = 1.4 # cm\n",
    "minimum_distance_between_50mm_100mm_cm = .7 # cm\n",
    "minimum_distance_between_75mm_100mm_cm = 1.4 # cm"
   ]
  },
  {
   "cell_type": "code",
   "execution_count": null,
   "id": "7b8590cc-a42e-42a0-b109-06e24e9bdb09",
   "metadata": {},
   "outputs": [],
   "source": [
    "def combined_focal_length_mm(focal_length_1_mm,\n",
    "                             focal_length_2_mm,\n",
    "                             distance_bewteen_lenses_cm):\n",
    "                                 \n",
    "    distance_between_lenses_mm = distance_bewteen_lenses_cm * 10 # mm\n",
    "    \n",
    "    return 1 / ((1 / focal_length_1_mm) + (1 / focal_length_2_mm) - (distance_between_lenses_mm / (focal_length_1_mm * focal_length_2_mm)))"
   ]
  },
  {
   "cell_type": "code",
   "execution_count": null,
   "id": "20ac6cc3-fa67-4228-a202-917aba3556b9",
   "metadata": {},
   "outputs": [],
   "source": [
    "combined_focal_length_50_75mm = combined_focal_length_mm(focal_length_1_mm=focal_lengths_mm[0],\n",
    "                                                         focal_length_2_mm=focal_lengths_mm[1],\n",
    "                                                         distance_bewteen_lenses_cm=minimum_distance_between_50mm_75mm_cm)\n",
    "\n",
    "combined_focal_length_75_75mm = combined_focal_length_mm(focal_length_1_mm=focal_lengths_mm[1],\n",
    "                                                         focal_length_2_mm=focal_lengths_mm[2],\n",
    "                                                         distance_bewteen_lenses_cm=minimum_distance_between_75mm_75mm_cm)\n",
    "\n",
    "combined_focal_length_50_100mm = combined_focal_length_mm(focal_length_1_mm=focal_lengths_mm[0],\n",
    "                                                          focal_length_2_mm=focal_lengths_mm[3],\n",
    "                                                          distance_bewteen_lenses_cm=minimum_distance_between_50mm_100mm_cm)\n",
    "\n",
    "combined_focal_length_75_100mm = combined_focal_length_mm(focal_length_1_mm=focal_lengths_mm[1],\n",
    "                                                          focal_length_2_mm=focal_lengths_mm[3],\n",
    "                                                          distance_bewteen_lenses_cm=minimum_distance_between_75mm_100mm_cm)\n",
    "\n",
    "print(f\"Combined focal length of {np.round(focal_lengths_mm[0],4)} mm lens and {np.round(focal_lengths_mm[1],4)} mm lens is {np.round(combined_focal_length_50_75mm,4)} (mm).\")\n",
    "print(f\"Combined focal length of {np.round(focal_lengths_mm[1],4)} mm lens and {np.round(focal_lengths_mm[2],4)} mm lens is {np.round(combined_focal_length_75_75mm,4)} (mm).\")\n",
    "print(f\"Combined focal length of {np.round(focal_lengths_mm[0],4)} mm lens and {np.round(focal_lengths_mm[3],4)} mm lens is {np.round(combined_focal_length_50_100mm,4)} (mm).\")\n",
    "print(f\"Combined focal length of {np.round(focal_lengths_mm[1],4)} mm lens and {np.round(focal_lengths_mm[3],4)} mm lens is {np.round(combined_focal_length_75_100mm,4)} (mm).\")"
   ]
  },
  {
   "cell_type": "code",
   "execution_count": null,
   "id": "0618f35e-d6d4-477a-b522-f2ba22caf238",
   "metadata": {},
   "outputs": [],
   "source": [
    "combined_focal_length_31_75mm = combined_focal_length_mm(focal_length_1_mm=focal_lengths_mm[0],\n",
    "                                                          focal_length_2_mm=combined_focal_length_50_75mm,\n",
    "                                                          distance_bewteen_lenses_cm=minimum_distance_between_75mm_75mm_cm)\n",
    "\n",
    "print(f\"Combined focal length of {np.round(combined_focal_length_50_75mm,4)} mm lens and {np.round(focal_lengths_mm[1],4)} mm lens is {np.round(combined_focal_length_31_75mm,4)} (mm).\")"
   ]
  },
  {
   "cell_type": "code",
   "execution_count": null,
   "id": "84b86f35-3977-4b37-b8cc-01f8b9e21a0e",
   "metadata": {},
   "outputs": [],
   "source": [
    "combined_focal_length_23_100mm = combined_focal_length_mm(focal_length_1_mm=focal_lengths_mm[3],\n",
    "                                                           focal_length_2_mm=combined_focal_length_31_75mm,\n",
    "                                                           distance_bewteen_lenses_cm=minimum_distance_between_75mm_100mm_cm)\n",
    "\n",
    "print(f\"Combined focal length of {np.round(combined_focal_length_31_75mm,4)} mm lens and {np.round(focal_lengths_mm[3],4)} mm lens is {np.round(combined_focal_length_23_100mm,4)} (mm).\")"
   ]
  },
  {
   "cell_type": "code",
   "execution_count": null,
   "id": "282013fa-d537-412a-8220-2969ca6ceaf0",
   "metadata": {},
   "outputs": [],
   "source": [
    "plate_scale_for_50mm_75mm, field_of_view_for_50mm_75mm = calculate_given_plate_scale_and_field_of_view(focal_length_mm=combined_focal_length_50_75mm,\n",
    "                                                                                                       pixel_size_um=pixel_size_um,\n",
    "                                                                                                       detector_width_pixels=detector_width_pixels)\n",
    "\n",
    "plate_scale_for_31mm_75mm, field_of_view_for_31mm_75mm = calculate_given_plate_scale_and_field_of_view(focal_length_mm=combined_focal_length_31_75mm,\n",
    "                                                                                                       pixel_size_um=pixel_size_um,\n",
    "                                                                                                       detector_width_pixels=detector_width_pixels)\n",
    "\n",
    "plate_scale_for_23mm_100mm, field_of_view_for_23mm_100mm = calculate_given_plate_scale_and_field_of_view(focal_length_mm=combined_focal_length_23_100mm,\n",
    "                                                                                                       pixel_size_um=pixel_size_um,\n",
    "                                                                                                       detector_width_pixels=detector_width_pixels)\n",
    "\n",
    "                                                                                                      \n",
    "print(f\"For combining {focal_lengths_mm[0]} mm lens with {focal_lengths_mm[1]} mm lens, plate scale is {np.round(plate_scale_for_50mm_75mm,4)} (arcseconds / pixel) and field of view is {np.round(field_of_view_for_50mm_75mm, 4)} (arcseconds).\")\n",
    "print(f\"For combining {focal_lengths_mm[0]} mm lens with {np.round(combined_focal_length_31_75mm,4)} mm lens, plate scale is {np.round(plate_scale_for_50mm_75mm,4)} (arcseconds / pixel) and field of view is {np.round(field_of_view_for_31mm_75mm, 4)} (arcseconds).\")\n",
    "print(f\"For combining {focal_lengths_mm[0]} mm lens with {np.round(combined_focal_length_23_100mm,4)} mm lens, plate scale is {np.round(plate_scale_for_50mm_75mm,4)} (arcseconds / pixel) and field of view is {np.round(field_of_view_for_23mm_100mm, 4)} (arcseconds).\")\n",
    "\n",
    "                                                                                                      "
   ]
  },
  {
   "cell_type": "code",
   "execution_count": null,
   "id": "1b4a8104-9bf3-47a3-99d9-b30ce0604701",
   "metadata": {},
   "outputs": [],
   "source": [
    "def distance_to_jupiter(focal_length_mm,\n",
    "                        size_of_jupiter_cm,\n",
    "                        size_of_jupiter_arcseconds):\n",
    "\n",
    "    theta_degrees = size_of_jupiter_arcseconds / 3600\n",
    "    distance_to_jupiter_cm = size_of_jupiter_cm / np.tan(theta_degrees)\n",
    "    return distance_to_jupiter_cm"
   ]
  },
  {
   "cell_type": "code",
   "execution_count": null,
   "id": "8d6feab3-b81d-4ff4-a669-ed47c089422b",
   "metadata": {},
   "outputs": [],
   "source": [
    "smallest_distance_to_jupiter_cm = distance_to_jupiter(focal_length_mm=combined_focal_length_23_100mm,\n",
    "                                  size_of_jupiter_cm=width_of_jupiter_cm,\n",
    "                                  size_of_jupiter_arcseconds=width_of_jupiter_arcseconds)\n",
    "\n",
    "print(f\"For combining {focal_lengths_mm[0]} mm lens with {np.round(combined_focal_length_23_100mm,4)} mm lens, the distance to Jupiter is {np.round(smallest_distance_to_jupiter_cm,4)} (cm).\")\n"
   ]
  },
  {
   "cell_type": "markdown",
   "id": "ca055102-e3b6-41b4-864a-798852ef35f1",
   "metadata": {},
   "source": [
    "### With Experimental Values"
   ]
  },
  {
   "cell_type": "code",
   "execution_count": null,
   "id": "6fe59942-ce37-441f-b72c-306a9d4d56bd",
   "metadata": {},
   "outputs": [],
   "source": [
    "distance_between_50mm_75mm_cm = 3.4 # cm"
   ]
  },
  {
   "cell_type": "code",
   "execution_count": null,
   "id": "ee0bcb4e-4e93-4115-a1c7-0b8976bb94ad",
   "metadata": {},
   "outputs": [],
   "source": [
    "actual_combined_focal_length_50_75mm = combined_focal_length_mm(focal_length_1_mm=focal_lengths_mm[0],\n",
    "                                                                focal_length_2_mm=focal_lengths_mm[1],\n",
    "                                                                distance_bewteen_lenses_cm=distance_between_50mm_75mm_cm)\n",
    "\n",
    "print(f\"Actual combined focal length of {np.round(focal_lengths_mm[0],4)} mm lens and {np.round(focal_lengths_mm[1],4)} mm lens is {np.round(actual_combined_focal_length_50_75mm,4)} (mm).\")\n"
   ]
  },
  {
   "cell_type": "code",
   "execution_count": null,
   "id": "3b4602da-b91f-4714-820d-33d861c0ff4d",
   "metadata": {},
   "outputs": [],
   "source": [
    "actual_plate_scale_for_50mm_75mm, actual_field_of_view_for_50mm_75mm = calculate_given_plate_scale_and_field_of_view(focal_length_mm=actual_combined_focal_length_50_75mm,\n",
    "                                                                                                                     pixel_size_um=pixel_size_um,\n",
    "                                                                                                                     detector_width_pixels=detector_width_pixels)\n",
    "\n",
    "print(f\"For combining {focal_lengths_mm[0]} mm lens with {focal_lengths_mm[1]} mm lens, the actaul plate scale is {np.round(actual_plate_scale_for_50mm_75mm,4)} (arcseconds / pixel) and actual field of view is {np.round(actual_field_of_view_for_50mm_75mm, 4)} (arcseconds).\")\n"
   ]
  },
  {
   "cell_type": "markdown",
   "id": "1a2a6e70-e5ad-4834-ab6e-7f9c7b624c4c",
   "metadata": {},
   "source": [
    "## 1.3 Field of View & Plate Scale\n",
    "What is the plate scale achieved with your optical system that imaged the entire extent of Jupiter? What plate scale should be used to resolve Jupiter spots and smallest strucutres?"
   ]
  },
  {
   "cell_type": "code",
   "execution_count": null,
   "id": "77487f08-a76c-4d3b-a59b-33290b985b14",
   "metadata": {},
   "outputs": [],
   "source": [
    "size_of_jupiter_small_spot_cm = .1 # cm\n",
    "number_of_pixels_to_resolve_jupiter_small_spot = 300\n",
    "distance_from_detector_to_jupiter_small_spot_cm = 3.5 + 1.4 + 3.4 + .9 + 9.5"
   ]
  },
  {
   "cell_type": "code",
   "execution_count": null,
   "id": "06dc4c61-1756-40ca-86de-48ebc316e71e",
   "metadata": {},
   "outputs": [],
   "source": [
    "size_of_jupiter_small_spot_arcseconds = calculate_jupiter_arcseconds(detector_width_pixels=detector_width_pixels,\n",
    "                                                                     pixel_size_um=pixel_size_um,\n",
    "                                                                     size_of_jupiter_cm=size_of_jupiter_small_spot_cm,\n",
    "                                                                     distance_from_detector_to_jupiter_cm=distance_from_detector_to_jupiter_small_spot_cm)\n",
    "\n",
    "print(f\"Size of Jupiter's small spot is {np.round(size_of_jupiter_small_spot_arcseconds,4)} (arcseconds).\")\n"
   ]
  },
  {
   "cell_type": "code",
   "execution_count": null,
   "id": "39a01536-a913-4427-bfe3-20c2995a06df",
   "metadata": {},
   "outputs": [],
   "source": [
    "jupiter_small_spot_plate_scale, jupiter_small_spot_field_of_view = calculate_needed_plate_scale_and_field_of_view(size_of_object_arcseconds=size_of_jupiter_small_spot_arcseconds,\n",
    "                                                                                                                  detector_width_pixels=detector_width_pixels,\n",
    "                                                                                                                  number_of_pixels_to_resolve=number_of_pixels_to_resolve_jupiter_small_spot)\n",
    "\n",
    "print(f\"Required plate scale for resolving Jupiter's small spot is {np.round(jupiter_small_spot_plate_scale,4)} (arcseconds / pixel).\")\n",
    "print(f\"Field of view corresponding to required plate scale is {np.round(jupiter_small_spot_field_of_view,4)} (arcseconds).\")\n"
   ]
  },
  {
   "cell_type": "code",
   "execution_count": null,
   "id": "c7ce813a-a50e-4740-80b3-1caff341f68f",
   "metadata": {},
   "outputs": [],
   "source": [
    "distance_between_50mm_75mm_cm = (1.4 + 3.4 + .9) / 2"
   ]
  },
  {
   "cell_type": "code",
   "execution_count": null,
   "id": "e54685d4-224b-461f-8a87-e932cf037195",
   "metadata": {},
   "outputs": [],
   "source": [
    "small_spot_combined_focal_length_50_75mm = combined_focal_length_mm(focal_length_1_mm=focal_lengths_mm[0],\n",
    "                                                                    focal_length_2_mm=focal_lengths_mm[1],\n",
    "                                                                    distance_bewteen_lenses_cm=distance_between_50mm_75mm_cm)\n",
    "\n",
    "print(f\"Actual combined focal length of {np.round(focal_lengths_mm[0],4)} mm lens and {np.round(focal_lengths_mm[1],4)} mm lens is {np.round(small_spot_combined_focal_length_50_75mm,4)} (mm).\")\n"
   ]
  },
  {
   "cell_type": "code",
   "execution_count": null,
   "id": "19430b88-329c-4673-8a6c-2578678bf4ef",
   "metadata": {},
   "outputs": [],
   "source": [
    "small_spot_plate_scale_for_50mm_75mm, small_spot_field_of_view_for_50mm_75mm = calculate_given_plate_scale_and_field_of_view(focal_length_mm=small_spot_combined_focal_length_50_75mm,\n",
    "                                                                                                                             pixel_size_um=pixel_size_um,\n",
    "                                                                                                                             detector_width_pixels=detector_width_pixels)\n",
    "\n",
    "print(f\"For combining {focal_lengths_mm[0]} mm lens with {focal_lengths_mm[1]} mm lens, the actaul plate scale is {np.round(small_spot_plate_scale_for_50mm_75mm,4)} (arcseconds / pixel) and actual field of view is {np.round(small_spot_field_of_view_for_50mm_75mm, 4)} (arcseconds).\")\n"
   ]
  },
  {
   "cell_type": "markdown",
   "id": "459dded7-678d-469f-881b-192890f5ac9e",
   "metadata": {},
   "source": [
    "# Detector Properties\n",
    "\n",
    "**KEY STEPS:**\n",
    "- **Determine the noise characteristics of your detector.**\n",
    "- **What is the detector’s read noise, dark current, and bias level?** \n",
    "\n",
    "Photons cannot be necessarily measured directly, therefore, a dector senses photons and produces an electrical signal which in turn can be measured. \n",
    "- Electrical signal (discretized (digital) units of analog-digital units (ADU)) (counts)\n",
    "The number of counts detected in a pixel will be proportional to the number of photons that landed in the pixel!\n",
    "\n",
    "$$\n",
    "\\text{gain} * \\text{analog-digital units} = \\text{number of photons}\n",
    "$$\n"
   ]
  },
  {
   "cell_type": "markdown",
   "id": "8c07035d-06ae-44e4-833c-e86a376e0f8c",
   "metadata": {},
   "source": [
    "### Parameters"
   ]
  },
  {
   "cell_type": "code",
   "execution_count": null,
   "id": "3b03cee7-e2b5-4bee-b618-7e15724c21f1",
   "metadata": {},
   "outputs": [],
   "source": [
    "# BFS-U3-16S2M-C detector\n",
    "width_of_detector_mm = 4.98 \n",
    "height_of_detector_mm = 3.74"
   ]
  },
  {
   "cell_type": "markdown",
   "id": "f56deefa-a3e0-4d4c-93ee-bfbc8bb36355",
   "metadata": {},
   "source": [
    "## 2.1 Bias & Dark Current\n",
    "\n",
    "*GOAL:* Report the bias level and dark current level for your camera.\n",
    "\n",
    "**Bias level:** signal recorded by the output amplifier even when there is no illumination, can vary from pixel to pixel\n",
    "- To measure the bias level, one needs to take dark frames with very short integration times.\n",
    "\n",
    "\n",
    "**Dark current:** thermal effects that promote charges from the valence band to the conduction band, where they are stored and read out (unwanted e- are confused for photoelectrons)\n",
    "- To measure the dark current, one needs to take dark frames with different exopsure times."
   ]
  },
  {
   "cell_type": "markdown",
   "id": "8beb8b6f-cfea-4e28-932d-7563ed894a2e",
   "metadata": {},
   "source": [
    "### Convert RAW to FITS (provided code from jlu + my own comments)"
   ]
  },
  {
   "cell_type": "code",
   "execution_count": null,
   "id": "bc7a8b39-91de-44e4-aecf-3823bd833645",
   "metadata": {},
   "outputs": [],
   "source": [
    "#raw_bias_directory = \"\"\n",
    "#fits_bias_directory = \"\""
   ]
  },
  {
   "cell_type": "code",
   "execution_count": null,
   "id": "ec9c04c3-df52-4979-a95e-a2d33684753f",
   "metadata": {},
   "outputs": [],
   "source": [
    "def raw_to_fits(raw_file, shape=(1080, 1440), destination=None, ADC_bits=12, simu_artifacts=False):\n",
    "    \"\"\"\n",
    "    Converts a RAW file to a FITS formatted image.\n",
    "\n",
    "    Inputs:\n",
    "    - raw_file (string): the file path of the RAW image.\n",
    "    - shape (tuple): a tuple with (# of rows, # of columns) for the image dimensions.\n",
    "    - destination (string): the output filename for the FITS image. If None, \n",
    "                            the '.raw' extension will be replaced with '.fits'.\n",
    "    - ADC_bits (integer): the bit depth of the analog-to-digital conversion.\n",
    "    - simu_artifcats (bool): whether to simulate artifcats (hot pixels, flat field, etc).\n",
    "    \"\"\"\n",
    "\n",
    "    # Extract the exposure time (in seconds) from the filename by splitting on 'us.raw'\n",
    "    # and then converting\n",
    "    integration_time = float(raw_file.split(\"us.raw\")[0].split(\"_\")[-1]) / 1e6\n",
    "\n",
    "    # Get the number of rows and columns from the shape input\n",
    "    number_of_rows, number_of_columns = shape\n",
    "\n",
    "    # Open the raw file in binary mode ('rb') and read its contents into raw_img\n",
    "    with open(raw_file, 'rb') as raw:\n",
    "        raw_img = raw.read()\n",
    "\n",
    "    # Check the file size to determine whether the file is 8-bit or 16-bit\n",
    "    filesize = len(raw_img)\n",
    "    if filesize == number_of_rows * number_of_columns: # 8-bit image\n",
    "        size = 'B' # 'B' represents unsigned 8-bit integers\n",
    "        file_bits = 8\n",
    "    elif filesize == number_of_rows * number_of_columns * 2: # 16-bit image\n",
    "        size = 'H'\n",
    "        file_bits = 16\n",
    "    else:\n",
    "        # If the filesize doesn't match the expected size, raise an error\n",
    "        raise ValueError(\"The image shape provided does not match the length of the file\")\n",
    "\n",
    "    # Create a format string for struct.unpack to interpret the binary data\n",
    "    # '<' for little-endian or 'H' for 8-bit or 16-bit\n",
    "    format_string = f\"<{number_of_rows*number_of_columns}{size}\" \n",
    "    \n",
    "    # Unpack the binary data into a flat numpy array, then reshape it \n",
    "    #to match the image dimension\n",
    "    byte_array = np.array(struct.unpack(format_string, raw_img)).reshape(number_of_rows, number_of_columns)\n",
    "\n",
    "    # Scale the image if the file bit depth is greater than the ADC bit depth\n",
    "    if file_bits > ADC_bits:\n",
    "        byte_array = byte_array / 2**(file_bits - ADC_bits)\n",
    "\n",
    "    # If simulation of artifcats is enabled, perform several modifications to the image\n",
    "    if simu_artifacts:\n",
    "        ny, nx = byte_array.shape # Get the image dimensions\n",
    "\n",
    "        dark_current = 1.25 # Dark current in (ADU/s)\n",
    "        byte_array += dark_current * integration_time # Add dark current over the exoposure time\n",
    "\n",
    "        # Create a flat-field correction (simulating non-uniform response across the sensor)\n",
    "        x_grid, y_grid = np.meshgrid(np.arange(nx), np.arange(ny)) # Create a grid of coordinates\n",
    "        flat_field = np.exp(-0.5 * ((x_grid - nx // 2) ** 2 / (3 * nx) ** 2 + (y_grid - ny // 2) ** 2 / (3 * ny) ** 2))\n",
    "        byte_array *= flat_field # Apply the flat-field correction by multiplying\n",
    "\n",
    "        # Save current random state and seed it to generate reproducible results for hot and cold pixels\n",
    "        state = np.random.get_state()\n",
    "        np.random.seed(0)\n",
    "\n",
    "        # Simulate hot pixels (bright pixels due to sensor noise)\n",
    "        hot_pixel_indices = np.random.randint(0, high=nx * ny - 1, size=int(0.01 * nx * ny))  # Random indices for hot pixels\n",
    "        hot_pixel_indices = np.unravel_index(hot_pixel_indices, (ny, nx))  # Convert flat indices to 2D indices\n",
    "\n",
    "        # Amplify hot pixels based on a Gaussian distribution and exposure time\n",
    "        byte_array[hot_pix_indices] *= tint * np.clip(30 * np.random.randn(int(0.01 * nx * ny)), dark_current, 2 ** ADC_bits)\n",
    "\n",
    "        # Simulate cold pixels (dim pixels)\n",
    "        cold_pix_indices = np.random.randint(0, high=nx * ny - 1, size=int(0.01 * nx * ny))  # Random indices for cold pixels\n",
    "        cold_pix_indices = np.unravel_index(cold_pix_indices, (ny, nx))  # Convert flat indices to 2D indices\n",
    "        byte_array[cold_pix_indices] *= np.random.uniform(0, 0.5, size=int(0.01 * nx * ny))  # Dim cold pixels\n",
    "\n",
    "        # Restore the random state to ensure that random processes elsewhere in the code remain unaffected\n",
    "        np.random.set_state(state)\n",
    "\n",
    "        # Add a constant bias value to the entire image\n",
    "        byte_array += 64  # Bias offset in ADU\n",
    "\n",
    "        # Add Gaussian read noise to the image (random noise due to sensor readout)\n",
    "        readnoise = 3  # Read noise level in ADU\n",
    "        byte_array += readnoise * np.random.randn(ny, nx)  # Add noise to each pixel\n",
    "\n",
    "        # Clip the values to ensure they remain within the range of the ADC bits\n",
    "        byte_array = np.clip(byte_array, 0, 2 ** ADC_bits)\n",
    "\n",
    "    # Determine the ouput FITS filename\n",
    "    if destination is None:\n",
    "        # Replace the .raw extension with .fits if no specific destination is provided\n",
    "        fits_file = raw_file.replace('.raw', '.fits')\n",
    "    else:\n",
    "        # Use the specified destination filename\n",
    "        fits_file = destination\n",
    "\n",
    "    # If simulation of artifacts was enabled, append \"_simu\" to the filename\n",
    "    if simu_artifacts:\n",
    "        fits_file = fits_file.replace(\".fits\", \"_simu.fits\")\n",
    "\n",
    "    # Create a FITS file from the numpy array\n",
    "    hdu = fits.PrimaryHDU(byte_array)  # Create a primary HDU object (Header Data Unit)\n",
    "    hdu.writeto(fits_file, overwrite=True)  # Write the FITS file to disk, overwriting if necessary\n"
   ]
  },
  {
   "cell_type": "code",
   "execution_count": null,
   "id": "aaf999a8-563e-4f85-84cc-41a6cdfe6372",
   "metadata": {},
   "outputs": [],
   "source": [
    "def process_raw_to_fits(raw_directory, fits_directory, shape=(1080, 1440)):\n",
    "    # Get a list of all .raw files in the directory\n",
    "    raw_files = glob.glob(os.path.join(raw_directory, \"*.raw\"))\n",
    "    print(\"Found raw files:\\n\", raw_files)\n",
    "\n",
    "    # Make sure output directory exists\n",
    "    if not os.path.exists(fits_directory):\n",
    "        os.makedirs(fits_directory)\n",
    "    \n",
    "    print(\"Found output directory:\\n\", fits_directory)\n",
    "\n",
    "    # Loop through each file and process it\n",
    "    for raw_file in raw_files:\n",
    "        # Determine the ouputs FITS filename\n",
    "        fits_filename = raw_file.replace(\".raw\", \".fits\")\n",
    "\n",
    "        # Check if the FITS file already exists\n",
    "        if len(glob.glob(fits_filename)) >= 1:\n",
    "            print(f\"FITS file {fits_filename} already exists. Skipping {fits_filename}.\")\n",
    "            continue\n",
    "\n",
    "        # Convert raw file to FITS\n",
    "        #print(f\"Converting {raw_file} to FITS format...\") # Extra\n",
    "        raw_to_fits(raw_file, shape=(1080, 1440))\n",
    "        #print(f\"Conversion completed for {raw_file}.\") # Extra\n",
    "\n",
    "        # Move the FITS file to the fits directory\n",
    "        new_fits_path = os.path.join(fits_directory, os.path.basename(fits_filename))\n",
    "        shutil.move(fits_filename, new_fits_path)\n",
    "        print(f\"Moved {fits_filename} to {new_fits_path}.\\n\")"
   ]
  },
  {
   "cell_type": "code",
   "execution_count": null,
   "id": "b2821dfe-8ae6-4bf9-8bd8-a4310c4bf6b1",
   "metadata": {},
   "outputs": [],
   "source": [
    "process_raw_to_fits(raw_directory=raw_bias_directory,\n",
    "                    fits_directory=fits_bias_directory,\n",
    "                    shape=(1080, 1440))"
   ]
  },
  {
   "cell_type": "markdown",
   "id": "38466701-3991-4b06-937f-36b012dc0fc8",
   "metadata": {},
   "source": [
    "### Bias Level\n",
    "*GOAL:* Collect a stack of dark frames and examine the mean signal and the error on the mean signal to estimate the bias level. \n",
    "- Plot histograms of the signal levels (or a histogram of the mean signal for each pixel in the image).\n",
    "- Report the resulting bias level for your camera. \n"
   ]
  },
  {
   "cell_type": "code",
   "execution_count": null,
   "id": "66425581-44b0-49d2-aa56-570f9942500e",
   "metadata": {},
   "outputs": [],
   "source": [
    "# Check the shape of the FITS file\n",
    "with fits.open(\"\") as hdul:\n",
    "    data = hdul[0].data\n",
    "    data_shape = data.shape\n",
    "\n",
    "print(f\"The shape of the FITS file data is {data_shape}.\")            "
   ]
  },
  {
   "cell_type": "markdown",
   "id": "0be1cfda-5c08-457c-bd3c-2ce0807f09be",
   "metadata": {},
   "source": [
    "### Histogram for one FITS file (each pixel)"
   ]
  },
  {
   "cell_type": "code",
   "execution_count": null,
   "id": "6ea0126d-62c2-43c8-a8f8-6c88d3fc8dc1",
   "metadata": {},
   "outputs": [],
   "source": [
    "# Get the indicies where the signal level is not zero\n",
    "non_zero_signal_indices = np.argwhere(data != 0)\n",
    "non_zero_signal_values = data[data != 0]\n",
    "\n",
    "# Generate pixel indices for the x-axis (each pixel has its own bin)\n",
    "pixel_indices = np.arange(len(non_zero_signal_values))\n",
    "\n",
    "# Create a bar plot where each bar corresponds to a pixel, \n",
    "#and the height is the signal level\n",
    "plt.figure(figsize=(10, 6))\n",
    "plt.bar(pixel_indices, non_zero_signal_values, color='blue')\n",
    "plt.title('ONE FILE: Bar Plot of Non-Zero Pixel Signal Levels')\n",
    "plt.xlabel('Pixel (Index)')\n",
    "plt.ylabel('Signal Level')\n",
    "plt.show()"
   ]
  },
  {
   "cell_type": "markdown",
   "id": "901745e7-270c-4fb0-8d65-74bb748d626e",
   "metadata": {},
   "source": [
    "### Histogram for one FITS file (each signal level)"
   ]
  },
  {
   "cell_type": "code",
   "execution_count": null,
   "id": "b66378ad-09f2-4703-a378-e21c5202fc89",
   "metadata": {},
   "outputs": [],
   "source": [
    "# Flatten the 2D image data into a 1D array for histogram plotting\n",
    "flattened_one_data = data.flatten()\n",
    "\n",
    "# Check if data was loaded correctly and print its shape\n",
    "print(f\"Shape of original data: {data.shape}\")\n",
    "print(f\"Shape of flattened data: {flattened_one_data.shape}\")\n",
    "\n",
    "# Get the unique signal levels\n",
    "unique_signal_levels = np.unique(flattened_one_data)\n",
    "print(f\"Unique signal levels: {unique_signal_levels}\")\n",
    "\n",
    "# Ensure we define bins that will exactly match the unique values\n",
    "bin_edges = np.concatenate(([unique_signal_levels[0] - 0.5], \n",
    "                            (unique_signal_levels[:-1] + unique_signal_levels[1:]) / 2,\n",
    "                            [unique_signal_levels[-1] + 0.5]))\n",
    "\n",
    "\n",
    "# Plot the histogram using the manually defined bins\n",
    "plt.figure()\n",
    "plt.hist(flattened_one_data, bins=bin_edges, color='blue', alpha=0.7)\n",
    "plt.title(\"Histogram of Signal Levels\")\n",
    "plt.xlabel(\"Signal Level\")\n",
    "plt.ylabel(\"Number of Pixels\")\n",
    "plt.xticks(unique_signal_levels)  # Ensure the x-axis shows the unique values\n",
    "plt.show()"
   ]
  },
  {
   "cell_type": "markdown",
   "id": "dc97571d-5e6c-443c-9224-ddea7af772de",
   "metadata": {},
   "source": [
    "### Histogram for multiple FITS files (each pixel)"
   ]
  },
  {
   "cell_type": "code",
   "execution_count": null,
   "id": "032fb38d-6e0b-4c49-b545-ec47d523bb30",
   "metadata": {},
   "outputs": [],
   "source": [
    "# Define the directory where the FITS files are located\n",
    "fits_bias_files = glob.glob(os.path.join(fits_bias_directory, \"*.fits\"))\n",
    "\n",
    "# Check if files are being found\n",
    "print(f\"Number of FITS files found: {len(fits_bias_files)}\")\n",
    "print(\"FITS files:\", fits_bias_files)\n",
    "\n",
    "\n",
    "# Initialize an array to store the sum of pixel values\n",
    "sum_signal = None\n",
    "num_files = len(fits_bias_files)\n",
    "\n",
    "# Loop through each file and add its data to the sum\n",
    "for fits_bias_file in fits_bias_files:\n",
    "    with fits.open(fits_bias_file) as hdul:\n",
    "        data = hdul[0].data\n",
    "\n",
    "        if sum_signal is None:\n",
    "            # Initialize sum_signal array with the same shape as the data\n",
    "            sum_signal = np.zeros_like(data)\n",
    "\n",
    "        # Add the current file's data to the sum_signal array\n",
    "        sum_signal += data\n",
    "\n",
    "# Calculate the mean signal level for each pixel\n",
    "mean_signal = sum_signal / num_files\n",
    "\n",
    "# Get the indices where the mean signal level is non-zero\n",
    "non_zero_signal_values = mean_signal[mean_signal != 0]\n",
    "\n",
    "# Generate pixel indices for the x-axis (each pixel has its own bin)\n",
    "pixel_indices = np.arange(len(non_zero_signal_values))\n",
    "\n",
    "# Create a bar plot for the mean signal level of each pixel\n",
    "plt.figure(figsize=(10, 6))\n",
    "plt.bar(pixel_indices, non_zero_signal_values, color='blue')\n",
    "plt.title('Mean Signal Levels of Non-Zero Pixels Across FITS Files')\n",
    "plt.xlabel('Pixel (Index)')\n",
    "plt.ylabel('Mean Signal Level')\n",
    "plt.show()\n",
    "        "
   ]
  },
  {
   "cell_type": "markdown",
   "id": "593152c8-bf8d-4a13-8f8f-474f779a18ac",
   "metadata": {},
   "source": [
    "### Histogram for multiple FITS files (each signal level)"
   ]
  },
  {
   "cell_type": "code",
   "execution_count": null,
   "id": "2cab4dcf-9a78-4eff-ad72-8ca0c9a58874",
   "metadata": {},
   "outputs": [],
   "source": [
    "# Create a list to store all the signal values from all files\n",
    "all_signals = []\n",
    "\n",
    "# Iterate through each FITS file to generate histograms\n",
    "for fits_bias_file in fits_bias_files:\n",
    "    # Open the FITS file and extract the data\n",
    "    with fits.open(fits_bias_file) as hdul:\n",
    "        data = hdul[0].data\n",
    "    \n",
    "    # Flatten the 2D image data into a 1D array for histogram plotting\n",
    "    flattened_data = data.flatten()\n",
    "    \n",
    "    # Add flattened data to the combined signal list\n",
    "    all_signals.append(flattened_data)\n",
    "\n",
    "\n",
    "# Combine all signals from all images into a single array\n",
    "combined_signals = np.concatenate(all_signals)\n",
    "\n",
    "# Get the unique signal levels across all files\n",
    "unique_signal_levels_combined = np.unique(combined_signals)\n",
    "\n",
    "# Create bin edges for the combined data\n",
    "bin_edges_combined = np.concatenate(([unique_signal_levels_combined[0] - 0.5], \n",
    "                                     (unique_signal_levels_combined[:-1] + unique_signal_levels_combined[1:]) / 2,\n",
    "                                     [unique_signal_levels_combined[-1] + 0.5]))\n",
    "\n",
    "# Plot the combined histogram for all images\n",
    "plt.figure()\n",
    "plt.hist(combined_signals, bins=bin_edges_combined, color='blue', alpha=0.7)\n",
    "plt.title(\"Combined Histogram of Signal Levels: All Images\")\n",
    "plt.xlabel(\"Signal Level\")\n",
    "plt.ylabel(\"Number of Pixels\")\n",
    "plt.xticks(unique_signal_levels_combined)  # Ensure the x-axis shows the unique values\n",
    "plt.show()\n"
   ]
  },
  {
   "cell_type": "markdown",
   "id": "99aa05bf-3517-4d78-a454-af79c1627aa8",
   "metadata": {},
   "source": [
    "### Bias Level Estimate"
   ]
  },
  {
   "cell_type": "code",
   "execution_count": null,
   "id": "a61b1457-8feb-4b6a-a496-fc689a0cb7f1",
   "metadata": {},
   "outputs": [],
   "source": [
    "# Calculate the bias level (mean of all pixel mean signals)\n",
    "bias_level = np.mean(mean_signal)\n",
    "\n",
    "# Calculate the standard deviation of the mean signal across pixels\n",
    "std_dev_signal = np.std(mean_signal)\n",
    "\n",
    "# Calculate the error on the mean (standard error of the mean)\n",
    "error_on_mean = std_dev_signal / np.sqrt(mean_signal.size)\n",
    "\n",
    "print(f\"Bias Level (mean signal): {bias_level}\")\n",
    "print(f\"Error on Bias Level: {error_on_mean}\")"
   ]
  },
  {
   "cell_type": "markdown",
   "id": "b57906da-f38c-4889-8050-8d619f359c86",
   "metadata": {},
   "source": [
    "### Dark Current\n",
    "*GOAL:* Collect a stack of dark frames with different exposure times. Examine the mean signal and the error on the mean signal to estimate the dark current. \n",
    "- Measure the signal as a function of exposure time (the slope of your line) and the uncertainty on that slope.\n",
    "- Report this dark current level for your camera. \n"
   ]
  },
  {
   "cell_type": "code",
   "execution_count": null,
   "id": "4ab2d55b-974c-4787-918c-521b45422220",
   "metadata": {},
   "outputs": [],
   "source": [
    "#exposure_times_us = [1000000, 5000000, 15000000]"
   ]
  },
  {
   "cell_type": "code",
   "execution_count": null,
   "id": "2db6a260-94c7-4590-8588-243b1abc8742",
   "metadata": {},
   "outputs": [],
   "source": [
    "# Trial 1\n",
    "raw_dark_current_1s_directory = \"\"\n",
    "fits_dark_current_1s_directory = \"\"\n"
   ]
  },
  {
   "cell_type": "code",
   "execution_count": null,
   "id": "816c6741-3d78-412d-a7b5-f0a13720899c",
   "metadata": {
    "scrolled": true
   },
   "outputs": [],
   "source": [
    "process_raw_to_fits(raw_directory=raw_dark_current_1s_directory,\n",
    "                    fits_directory=fits_dark_current_1s_directory,\n",
    "                    shape=(1080, 1440))\n",
    "\n",
    "process_raw_to_fits(raw_directory=raw_dark_current_5s_directory,\n",
    "                    fits_directory=fits_dark_current_5s_directory,\n",
    "                    shape=(1080, 1440))\n",
    "\n",
    "process_raw_to_fits(raw_directory=raw_dark_current_10s_directory,\n",
    "                    fits_directory=fits_dark_current_10s_directory,\n",
    "                    shape=(1080, 1440))\n",
    "\n",
    "process_raw_to_fits(raw_directory=raw_dark_current_15s_directory,\n",
    "                    fits_directory=fits_dark_current_15s_directory,\n",
    "                    shape=(1080, 1440))\n",
    "\n",
    "process_raw_to_fits(raw_directory=raw_dark_current_20s_directory,\n",
    "                    fits_directory=fits_dark_current_20s_directory,\n",
    "                    shape=(1080, 1440))\n",
    "\n",
    "process_raw_to_fits(raw_directory=raw_dark_current_25s_directory,\n",
    "                    fits_directory=fits_dark_current_25s_directory,\n",
    "                    shape=(1080, 1440))\n",
    "\n",
    "process_raw_to_fits(raw_directory=raw_dark_current_30s_directory,\n",
    "                    fits_directory=fits_dark_current_30s_directory,\n",
    "                    shape=(1080, 1440))"
   ]
  },
  {
   "cell_type": "code",
   "execution_count": null,
   "id": "36c5a8c8-8892-464d-a553-596757bd51ca",
   "metadata": {},
   "outputs": [],
   "source": [
    "exposure_1000000us = glob.glob(os.path.join(fits_dark_current_1s_directory, \"*.fits\"))\n",
    "exposure_5000000us = glob.glob(os.path.join(fits_dark_current_5s_directory, \"*.fits\"))\n",
    "exposure_10000000us = glob.glob(os.path.join(fits_dark_current_10s_directory, \"*.fits\"))\n",
    "exposure_15000000us = glob.glob(os.path.join(fits_dark_current_15s_directory, \"*.fits\"))\n",
    "exposure_20000000us = glob.glob(os.path.join(fits_dark_current_20s_directory, \"*.fits\"))\n",
    "exposure_25000000us = glob.glob(os.path.join(fits_dark_current_25s_directory, \"*.fits\"))\n",
    "exposure_30000000us = glob.glob(os.path.join(fits_dark_current_30s_directory, \"*.fits\"))\n",
    "\n",
    "# Create a dictionary\n",
    "exposure_files_dict = {\n",
    "    \"exposure_1000000us\": exposure_1000000us,\n",
    "    \"exposure_5000000us\": exposure_5000000us,\n",
    "    \"exposure_10000000us\": exposure_10000000us,\n",
    "    \"exposure_15000000us\": exposure_15000000us,\n",
    "    \"exposure_20000000us\": exposure_20000000us,\n",
    "    \"exposure_25000000us\": exposure_25000000us,\n",
    "    \"exposure_30000000us\": exposure_30000000us\n",
    "}"
   ]
  },
  {
   "cell_type": "code",
   "execution_count": null,
   "id": "09fbd7c9-4170-4d17-aba9-1821b7c08897",
   "metadata": {},
   "outputs": [],
   "source": [
    "def calculate_mean_signal(filenames):\n",
    "    # Function to calculate the mean signal from multiple frames of the same exposure\n",
    "    signals = []\n",
    "    for filename in filenames:\n",
    "        with fits.open(filename) as hdul:\n",
    "            data = hdul[0].data\n",
    "            signals.append(np.mean(data))\n",
    "        return np.mean(signals)\n",
    "\n",
    "def process_dark_current(exposure_files_dict):\n",
    "    exposure_times = []\n",
    "    mean_signals = []\n",
    "    \n",
    "    for key, files in exposure_files_dict.items():\n",
    "        # Extract the numeric exposure time from the key\n",
    "        exposure_time_str = key.split('_')[1].replace('us', '')  # Extract numeric part in us\n",
    "        exposure_time = int(exposure_time_str) / 1e6 # Convert to seconds\n",
    "        exposure_times.append(exposure_time)\n",
    "        \n",
    "        # Calculate mean signal for each set of files\n",
    "        mean_signal = calculate_mean_signal(files)\n",
    "        mean_signals.append(mean_signal)\n",
    "\n",
    "    # Convert exposure_times and mean_signals to numpy arrays\n",
    "    exposure_times = np.array(exposure_times, dtype=np.float64)\n",
    "    mean_signals = np.array(mean_signals, dtype=np.float64)\n",
    "\n",
    "    # Perform linear regression to calculate dark current (slope) and its uncertainty\n",
    "    slope, intercept, r_value, p_value, std_err = linregress(exposure_times, mean_signals)\n",
    "\n",
    "    # Return the results for further use (such as plotting)\n",
    "    return exposure_times, mean_signals, slope, intercept, std_err\n"
   ]
  },
  {
   "cell_type": "code",
   "execution_count": null,
   "id": "bb7b2fd5-502c-4a9b-9eaa-169103f0a71d",
   "metadata": {
    "scrolled": true
   },
   "outputs": [],
   "source": [
    "exposure_times, mean_signals, slope, intercept, std_err = process_dark_current(exposure_files_dict)\n",
    "\n",
    "plt.figure(figsize=(8, 6))\n",
    "plt.scatter(exposure_times, mean_signals, label=\"Mean Signal\")\n",
    "plt.plot(exposure_times, intercept + slope * exposure_times, 'r--', label=f\"Fit: Slope={slope:.4f}, Intercept={intercept:.2f}\")\n",
    "plt.xlabel(\"Exposure Time (s)\")\n",
    "plt.ylabel(\"Mean Signal (ADU)\")\n",
    "plt.title(\"Mean Signal vs Exposure Time\")\n",
    "plt.legend()\n",
    "plt.show()"
   ]
  },
  {
   "cell_type": "code",
   "execution_count": null,
   "id": "3edfb8cb-235e-41d0-a00a-b418ec6e9163",
   "metadata": {},
   "outputs": [],
   "source": [
    "# Report the dark current (slope) and uncertainty (std_err)\n",
    "print(f\"Dark Current (Slope): {slope} ADU/s\")\n",
    "print(f\"Uncertainty in Dark Current (Slope): {std_err} ADU/s\")"
   ]
  },
  {
   "cell_type": "markdown",
   "id": "e603f93e-7c36-4678-ae02-f3d7b47ab115",
   "metadata": {},
   "source": [
    "## 2.2 Read Noise\n",
    "*GOAL:* Measure images of a white light \"flat frame\" source at different intensities. Analyze a stack of flat frames to measure the read noise. "
   ]
  },
  {
   "cell_type": "code",
   "execution_count": null,
   "id": "f0999e96-5910-42a9-b984-0670b5d042d0",
   "metadata": {},
   "outputs": [],
   "source": [
    "raw_readnoise_05s_directory = \"\"\n",
    "fits_readnoise_05s_directory = \"\"\n"
   ]
  },
  {
   "cell_type": "code",
   "execution_count": null,
   "id": "1caafe87-1846-4ecd-a599-72ad086bfd6e",
   "metadata": {
    "scrolled": true
   },
   "outputs": [],
   "source": [
    "process_raw_to_fits(raw_directory=raw_readnoise_05s_directory,\n",
    "                    fits_directory=fits_readnoise_05s_directory,\n",
    "                    shape=(1080, 1440))\n",
    "\n",
    "process_raw_to_fits(raw_directory=raw_readnoise_1s_directory,\n",
    "                    fits_directory=fits_readnoise_1s_directory,\n",
    "                    shape=(1080, 1440))\n",
    "\n",
    "process_raw_to_fits(raw_directory=raw_readnoise_5s_directory,\n",
    "                    fits_directory=fits_readnoise_5s_directory,\n",
    "                    shape=(1080, 1440))\n",
    "\n",
    "process_raw_to_fits(raw_directory=raw_readnoise_10s_directory,\n",
    "                    fits_directory=fits_readnoise_10s_directory,\n",
    "                    shape=(1080, 1440))\n",
    "\n",
    "process_raw_to_fits(raw_directory=raw_readnoise_15s_directory,\n",
    "                    fits_directory=fits_readnoise_15s_directory,\n",
    "                    shape=(1080, 1440))\n",
    "\n",
    "process_raw_to_fits(raw_directory=raw_readnoise_20s_directory,\n",
    "                    fits_directory=fits_readnoise_20s_directory,\n",
    "                    shape=(1080, 1440))\n",
    "\n",
    "process_raw_to_fits(raw_directory=raw_readnoise_25s_directory,\n",
    "                    fits_directory=fits_readnoise_25s_directory,\n",
    "                    shape=(1080, 1440))\n",
    "\n",
    "process_raw_to_fits(raw_directory=raw_readnoise_30s_directory,\n",
    "                    fits_directory=fits_readnoise_30s_directory,\n",
    "                    shape=(1080, 1440))\n"
   ]
  },
  {
   "cell_type": "code",
   "execution_count": null,
   "id": "98014247-3d51-4901-b109-5953f77d7171",
   "metadata": {},
   "outputs": [],
   "source": [
    "flat_500000us = glob.glob(os.path.join(fits_readnoise_05s_directory, \"*.fits\"))\n",
    "flat_1000000us = glob.glob(os.path.join(fits_readnoise_1s_directory, \"*.fits\"))\n",
    "flat_5000000us = glob.glob(os.path.join(fits_readnoise_5s_directory, \"*.fits\"))                        \n",
    "flat_10000000us = glob.glob(os.path.join(fits_readnoise_10s_directory, \"*.fits\"))                        \n",
    "flat_15000000us = glob.glob(os.path.join(fits_readnoise_15s_directory, \"*.fits\"))                       \n",
    "flat_20000000us = glob.glob(os.path.join(fits_readnoise_20s_directory, \"*.fits\"))                        \n",
    "flat_25000000us = glob.glob(os.path.join(fits_readnoise_25s_directory, \"*.fits\"))                        \n",
    "flat_30000000us = glob.glob(os.path.join(fits_readnoise_30s_directory, \"*.fits\"))                        \n",
    "\n",
    "\n",
    "\n",
    "# Create a dictionary\n",
    "flat_files_dict = {\n",
    "    \"500000us\": flat_500000us,\n",
    "    \"1000000us\": flat_1000000us,\n",
    "    \"5000000us\": flat_5000000us,\n",
    "    \"10000000us\": flat_10000000us,\n",
    "    \"15000000us\": flat_15000000us,\n",
    "    \"20000000us\": flat_20000000us,\n",
    "    \"25000000us\": flat_25000000us,\n",
    "    \"30000000us\": flat_30000000us,\n",
    "}"
   ]
  },
  {
   "cell_type": "code",
   "execution_count": null,
   "id": "6afa4da1-a35c-4025-89ad-002bb96f873a",
   "metadata": {},
   "outputs": [],
   "source": [
    "# Lists to store mean signal levels and noise (standard deviation) for each exposure time\n",
    "mean_signals = []\n",
    "noise_values = []\n",
    "exposure_times = []\n",
    "read_noise = None\n",
    "\n",
    "# Function to load a stack of flat frames for a given exposure time\n",
    "def load_flat_frames(files):\n",
    "    frames = []\n",
    "    for file in files:\n",
    "        with fits.open(file) as hdul:\n",
    "            data = hdul[0].data\n",
    "            frames.append(data)\n",
    "    return np.array(frames)\n",
    "\n",
    "# Process each set of flat frames for each exposure time\n",
    "for exposure_time, flat_files in flat_files_dict.items():\n",
    "    print(f\"Processing exposure time: {exposure_time}\")\n",
    "    \n",
    "    # Load the flat frames for the current exposure time\n",
    "    flat_frames_stack = load_flat_frames(flat_files)\n",
    "\n",
    "    if flat_frames_stack.size == 0:\n",
    "        print(f\"No data found for exposure time {exposure_time}. Skipping.\")\n",
    "        continue\n",
    "\n",
    "    # Calculate the mean frame across the stack (for each pixel)\n",
    "    mean_frame = np.mean(flat_frames_stack, axis=0)\n",
    "\n",
    "    # Subtract the mean from each frame to get the residual noise\n",
    "    residuals = flat_frames_stack - mean_frame\n",
    "\n",
    "    # Calculate the standard deviation (RMS) for each pixel across the stack\n",
    "    std_frame = np.std(residuals, axis=0)\n",
    "\n",
    "    # Calculate overall mean signal and noise for this exposure time\n",
    "    mean_signal = np.mean(mean_frame)\n",
    "    noise = np.mean(std_frame)\n",
    "    \n",
    "    # Append the results to the lists\n",
    "    mean_signals.append(mean_signal)\n",
    "    noise_values.append(noise)\n",
    "    exposure_times.append(int(exposure_time.replace(\"us\", \"\")))  # Convert exposure time to an integer for plotting\n",
    "\n",
    "    # Calculate the read noise from the shortest exposure time (500000us)\n",
    "    if exposure_time == \"500000us\":\n",
    "        read_noise = noise\n",
    "        print(f\"Read noise estimated from {exposure_time}: {read_noise} ADU\")\n",
    "\n",
    "    # Plot a histogram of the noise for this exposure time\n",
    "    plt.figure()\n",
    "    plt.hist(std_frame.flatten(), bins=100, color='blue', alpha=0.7)\n",
    "    plt.title(f'Histogram of Noise: {exposure_time}')\n",
    "    plt.xlabel('Noise (ADU)')\n",
    "    plt.ylabel('Number of Pixels')\n",
    "    plt.show()"
   ]
  },
  {
   "cell_type": "code",
   "execution_count": null,
   "id": "3d10d1a6-3289-4e15-9b12-8b35931796bb",
   "metadata": {},
   "outputs": [],
   "source": [
    "# Plot noise (RMS) vs. mean signal level for all exposure times\n",
    "plt.figure()\n",
    "plt.plot(mean_signals, noise_values, 'o-', color='green', label='Noise vs Signal')\n",
    "plt.title('Noise (RMS) vs Mean Signal Level')\n",
    "plt.xlabel('Mean Signal Level (ADU)')\n",
    "plt.ylabel('Noise (RMS)')\n",
    "plt.grid(True)\n",
    "plt.legend()\n",
    "plt.show()\n",
    "\n",
    "# Plot noise (RMS) vs exposure time to see how noise changes with exposure\n",
    "plt.figure()\n",
    "plt.plot(exposure_times, noise_values, 'o-', color='red', label='Noise vs Exposure Time')\n",
    "plt.title('Noise (RMS) vs Exposure Time')\n",
    "plt.xlabel('Exposure Time (µs)')\n",
    "plt.ylabel('Noise (RMS)')\n",
    "plt.grid(True)\n",
    "plt.legend()\n",
    "plt.show()\n",
    "\n",
    "# Print the read noise value\n",
    "if read_noise is not None:\n",
    "    print(f\"Read noise (from 500000us exposure): {read_noise} ADU\")\n",
    "else:\n",
    "    print(\"Read noise could not be calculated.\")\n"
   ]
  },
  {
   "cell_type": "markdown",
   "id": "32c60404-e869-4656-8fe5-4903ce40d7d2",
   "metadata": {},
   "source": [
    "# Astronomical Measurements\n",
    "\n",
    "**KEY STEPS:** \n",
    "- **Measure the flux and flux uncertainty of Jupiter-sim’s red spot.**\n",
    "- **Determine the signal-to-noise ratio on Jupiter-sim’s red spot in a 1 second integration.**\n",
    "  - **To complete this step, you will need to understand the noise characteristics of your detector.**\n",
    "  - **How did you convert the observed signal from the detector into flux?**\n",
    " \n",
    "\n"
   ]
  },
  {
   "cell_type": "markdown",
   "id": "41778903-8e6f-4aa9-94fb-270a4bc42d5c",
   "metadata": {},
   "source": [
    "## 3.1 Photometry\n",
    "*GOAL:* Measure the flux and flux uncertainty of Jupiter-sim’s red spot. Determine the signal-to-noise ratio on Jupiter-sim’s red spot in a 1 second integration."
   ]
  },
  {
   "cell_type": "code",
   "execution_count": null,
   "id": "ababcc59-90db-4c85-bd4d-974c6809ac62",
   "metadata": {},
   "outputs": [],
   "source": [
    "raw_red_spot_05s_directory = \"\"\n",
    "fits_red_spot_05s_directory = \"\"\n"
   ]
  },
  {
   "cell_type": "code",
   "execution_count": null,
   "id": "93b914a2-c5a6-44de-8392-6027c05a1731",
   "metadata": {
    "scrolled": true
   },
   "outputs": [],
   "source": [
    "process_raw_to_fits(raw_directory=raw_red_spot_05s_directory,\n",
    "                    fits_directory=fits_red_spot_05s_directory,\n",
    "                    shape=(1080, 1440))\n",
    "\n",
    "process_raw_to_fits(raw_directory=raw_red_spot_1s_directory,\n",
    "                    fits_directory=fits_red_spot_1s_directory,\n",
    "                    shape=(1080, 1440))\n",
    "\n",
    "process_raw_to_fits(raw_directory=raw_red_spot_2s_directory,\n",
    "                    fits_directory=fits_red_spot_2s_directory,\n",
    "                    shape=(1080, 1440))\n"
   ]
  },
  {
   "cell_type": "code",
   "execution_count": null,
   "id": "20e1ecea-41f9-4257-b31b-228152c9ae4d",
   "metadata": {},
   "outputs": [],
   "source": [
    "red_spot_500000us = glob.glob(os.path.join(fits_red_spot_05s_directory, \"*.fits\"))\n",
    "red_spot_1000000us = glob.glob(os.path.join(fits_red_spot_1s_directory, \"*.fits\"))\n",
    "red_spot_2000000us = glob.glob(os.path.join(fits_red_spot_2s_directory, \"*.fits\"))                        \n",
    "\n",
    "\n",
    "# Create a dictionary\n",
    "flat_files_dict = {\n",
    "    \"500000us\": red_spot_500000us,\n",
    "    \"1000000us\": red_spot_1000000us,\n",
    "    \"5000000us\": red_spot_2000000us\n",
    "}\n",
    "\n"
   ]
  },
  {
   "cell_type": "markdown",
   "id": "246bf617-2db0-4a2c-8462-20471567b901",
   "metadata": {},
   "source": [
    "## 3.2 Astrometry\n",
    "\n",
    "*GOAL:* Measure the position and positional uncertainty of a star in the globular cluster-sim. "
   ]
  },
  {
   "cell_type": "code",
   "execution_count": null,
   "id": "ba10cd67-4f93-4f3d-8f6e-cd8e5ab5eccb",
   "metadata": {},
   "outputs": [],
   "source": [
    "raw_star_directory1 = \"\"\n",
    "fits_star_directory1 = \"\"\n"
   ]
  },
  {
   "cell_type": "code",
   "execution_count": null,
   "id": "7c5b8413-1422-434f-ad6b-3412260e9072",
   "metadata": {},
   "outputs": [],
   "source": [
    "process_raw_to_fits(raw_directory=raw_star_directory1,\n",
    "                    fits_directory=fits_star_directory1,\n",
    "                    shape=(1080, 1440))\n",
    "\n",
    "process_raw_to_fits(raw_directory=raw_star_directory2,\n",
    "                    fits_directory=fits_star_directory2,\n",
    "                    shape=(1080, 1440))"
   ]
  }
 ],
 "metadata": {
  "kernelspec": {
   "display_name": "Python 3 (ipykernel)",
   "language": "python",
   "name": "python3"
  },
  "language_info": {
   "codemirror_mode": {
    "name": "ipython",
    "version": 3
   },
   "file_extension": ".py",
   "mimetype": "text/x-python",
   "name": "python",
   "nbconvert_exporter": "python",
   "pygments_lexer": "ipython3",
   "version": "3.11.0"
  }
 },
 "nbformat": 4,
 "nbformat_minor": 5
}
