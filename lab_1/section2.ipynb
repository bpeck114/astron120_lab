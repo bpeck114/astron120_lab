{
 "cells": [
  {
   "cell_type": "markdown",
   "id": "592bf710-c79a-4b73-ad4b-3e3293bf00e0",
   "metadata": {},
   "source": [
    "# Lab #1 Images, optics, and the statistics of light\n",
    "## Section 2"
   ]
  },
  {
   "cell_type": "code",
   "execution_count": null,
   "id": "3be8c045-d609-4ce3-a424-cfe66136d416",
   "metadata": {},
   "outputs": [],
   "source": [
    "import glob\n",
    "import os\n",
    "import numpy as np\n",
    "import astropy.io.fits as fits\n",
    "import matplotlib.pyplot as plt\n",
    "from scipy.stats import linregress"
   ]
  },
  {
   "cell_type": "markdown",
   "id": "2f6788be-9f7e-4e9f-9b80-0e0bab286ec7",
   "metadata": {},
   "source": [
    "## Detector Properties"
   ]
  },
  {
   "cell_type": "markdown",
   "id": "19b9c2b0-1d60-42d0-bdfe-b161364227e3",
   "metadata": {},
   "source": [
    "## 2.2.0 Gain\n",
    "**Gain:** the number of photo-excited electrons that produce a single ADU. \n",
    "\n",
    "$$\n",
    "\\text{gain} = \\frac{\\text{number of electrons}}{\\text{analog-to-digital unit}}\n",
    "$$\n"
   ]
  },
  {
   "cell_type": "code",
   "execution_count": null,
   "id": "ea7e933b-4428-424c-ac06-bb6bc1eea7f0",
   "metadata": {},
   "outputs": [],
   "source": [
    "#gain_directory_30000000us = \n",
    "\n",
    "\n",
    "#gain_exposure_time = \n",
    "#gain_directories = [gain_directory_10000000us, gain_directory_15000000us, gain_directory_20000000us, gain_directory_25000000us, gain_directory_30000000us]\n"
   ]
  },
  {
   "cell_type": "code",
   "execution_count": null,
   "id": "1b871d36-bdb4-4226-8d1d-3775f8f1dac9",
   "metadata": {},
   "outputs": [],
   "source": [
    "gain_signal_values = []\n",
    "gain_raw_signal_values = []\n",
    "gain_variance_values = []\n",
    "theoretical_noise_values = []\n",
    "\n",
    "for gain_directory in gain_directories:\n",
    "    gain_one_exposure_signal_data = [] \n",
    "    gain_files = glob.glob(os.path.join(gain_directory, '*fits'))\n",
    "    for gain_file in gain_files:\n",
    "        with fits.open(gain_file) as hdul:\n",
    "            one_file_gain_signal_data_all = hdul[0].data \n",
    "            one_file_gain_signal_data = np.percentile(one_file_gain_signal_data_all, 35)\n",
    "            average_one_file_gain_signal_data = np.mean(one_file_gain_signal_data) \n",
    "            gain_one_exposure_signal_data.append(average_one_file_gain_signal_data)\n",
    "\n",
    "            if gain_directory == gain_directories[0]:\n",
    "                gain_raw_signal_values.append(one_file_gain_signal_data)\n",
    "\n",
    "    average_one_exposure_signal_data = np.mean(gain_one_exposure_signal_data) \n",
    "    variance_one_exposure_signal_data = np.var(gain_one_exposure_signal_data)\n",
    "    theoretical_noise_data = np.sqrt(np.mean(gain_one_exposure_signal_data))\n",
    "    \n",
    "    gain_signal_values.append(average_one_exposure_signal_data)\n",
    "    gain_variance_values.append(variance_one_exposure_signal_data)\n",
    "    theoretical_noise_values.append(theoretical_noise_data)\n"
   ]
  },
  {
   "cell_type": "code",
   "execution_count": null,
   "id": "1eeaac71-d61c-46b0-9905-a0cd50feb439",
   "metadata": {},
   "outputs": [],
   "source": [
    "gain = np.mean(theoretical_noise_values) / np.mean(gain_variance_values)\n",
    "print(f\"\\nGain = {np.round(gain, 2)} (electrons/ADU)\\n\")"
   ]
  },
  {
   "cell_type": "code",
   "execution_count": null,
   "id": "d14bb511-add2-4454-9736-e5f15c018c03",
   "metadata": {},
   "outputs": [],
   "source": [
    "data = np.array(gain_raw_signal_values)\n",
    "flattened_data = data.flatten()\n",
    "\n",
    "counts, bin_edges = np.histogram(flattened_data, bins=50)\n",
    "\n",
    "counts = np.append(counts)\n",
    "bin_edges = np.append(bin_edges, extra_bin_edges)\n",
    "plt.figure(figsize=(6, 6))\n",
    "plt.bar(bin_edges[:-1] - 1200, counts/10, width=np.diff(bin_edges), color='purple', edgecolor='black', align='edge')\n",
    "plt.title(\"Gain: Histogram of Flat Frame Pixel Response (5s)\")\n",
    "plt.xlabel(\"Signal Level of Individual Pixel (ADU)\")\n",
    "plt.ylabel(\"Frequency (n)\")\n",
    "plt.show()\n"
   ]
  },
  {
   "cell_type": "code",
   "execution_count": null,
   "id": "51c6933e-91d7-49db-9103-1269acc7bfff",
   "metadata": {},
   "outputs": [],
   "source": [
    "plt.figure(figsize=(4, 4))\n",
    "plt.plot(gain_exposure_time, theortiecal_noise_values2, label = 'Predicted Noise', color='purple')\n",
    "plt.plot(gain_exposure_time, gain_calc_values1[::-1], label = 'Measured Noise', marker='o', color='blue')\n",
    "plt.title('Gain: Measured vs. Predicted Noise')\n",
    "plt.scatter(20, 20, color='none', label = 'Gain = 8 e$^-$/ADU')\n",
    "plt.xlabel('Exposure Time (s)')\n",
    "plt.ylabel('Noise from Signal (electrons $^2$)')\n",
    "plt.legend()\n",
    "plt.show()\n"
   ]
  },
  {
   "cell_type": "markdown",
   "id": "f2b2306b-928f-4f5f-b7b2-4ec68176c8da",
   "metadata": {},
   "source": [
    "## 2.2.1.1 Bias\n",
    "**Bias:** noise introduced by the camera itself.\n",
    "\n",
    "**KEY STEPS:**\n",
    "1) Measure the bias level of an image by taking dark frames with **very short** integration times.\n",
    "2) Collect a stack of dark frames and examine the mean signal and the error on the mean of the signal."
   ]
  },
  {
   "cell_type": "code",
   "execution_count": null,
   "id": "ae7f66e4-6b56-4419-a469-95c2e41ce406",
   "metadata": {},
   "outputs": [],
   "source": [
    "#bias_directory = \n",
    "bias_files = glob.glob(os.path.join(bias_directory, '*.fits'))\n",
    "\n",
    "#print(f\"Found {len(bias_files)} files: {bias_files}\")"
   ]
  },
  {
   "cell_type": "code",
   "execution_count": null,
   "id": "cae79d75-7264-4a48-864e-a21cd17f8af5",
   "metadata": {},
   "outputs": [],
   "source": [
    "bias_values = []\n",
    "sum_signal = None\n",
    "num_files = len(bias_files)\n",
    "\n",
    "for file in bias_files:\n",
    "    with fits.open(file) as hdul:\n",
    "        all_bias_data = hdul[0].data * 47.92 # gain\n",
    "        average_bias_data = np.mean(all_bias_data)\n",
    "        bias_values.append(average_bias_data)\n",
    "\n",
    "        if sum_signal is None:\n",
    "            sum_signal = np.zeros_like(all_bias_data)\n",
    "\n",
    "        sum_signal += (all_bias_data)\n",
    "\n",
    "bias = \"{:.2e}\".format(np.mean(average_bias_data))\n",
    "bias_error_on_mean = np.std(average_bias_data) / np.sqrt(average_bias_data)\n",
    "\n",
    "mean_signal = sum_signal / num_files\n",
    "non_zero_signal_values = mean_signal[mean_signal != 0]\n",
    "pixel_indices = np.arange(len(non_zero_signal_values))\n",
    "\n",
    "print(f\"\\nBias = {bias} +/- {bias_error_on_mean} (electrons)\\n\")"
   ]
  },
  {
   "cell_type": "code",
   "execution_count": null,
   "id": "6c17fa00-41af-4ab7-8cf6-0c45db69f5c0",
   "metadata": {},
   "outputs": [],
   "source": [
    "plt.figure(figsize=(5, 5))\n",
    "plt.bar(pixel_indices, non_zero_signal_values, color='blue', label='Pixel Signal')\n",
    "plt.title('Bias: Histogram of Individual Pixel Response')\n",
    "plt.xlabel('Pixel (Index)')\n",
    "plt.ylabel('Mean Signal Level')\n",
    "plt.legend()\n",
    "plt.show()"
   ]
  },
  {
   "cell_type": "markdown",
   "id": "9fd6a500-18f4-4870-b875-bf734998e1c0",
   "metadata": {},
   "source": [
    "## 2.2.1.2 Dark Current\n",
    "**Dark Current:** noise caused by thermal energy. \n",
    "\n",
    "**KEY STEPS:**\n",
    "1) Measure the dark current by taking dark frames with **very long** integration times.\n",
    "2) Collect a stack of dark frames and examine/plot the mean flux/signal and the uncertainty as a function of exposure time."
   ]
  },
  {
   "cell_type": "code",
   "execution_count": null,
   "id": "ebab0cca-5672-4ecc-a14d-b4f553fcc6a8",
   "metadata": {},
   "outputs": [],
   "source": [
    "#dark_current_directory1_1000000us = \"dark_current/trial1/1s/fits\"\n",
    "\n",
    "\n",
    "#dark_current_exposure_times = \n",
    "dark_current_directories = [dark_current_directory1_1000000us, dark_current_directory1_5000000us, dark_current_directory1_10000000us,\n",
    "                            dark_current_directory1_15000000us, dark_current_directory1_20000000us, dark_current_directory1_25000000us,\n",
    "                            dark_current_directory1_30000000us, dark_current_directory2_1000000us, dark_current_directory2_5000000us,\n",
    "                            dark_current_directory2_10000000us, dark_current_directory2_15000000us, dark_current_directory2_20000000us,\n",
    "                            dark_current_directory2_25000000us, dark_current_directory2_30000000us]\n"
   ]
  },
  {
   "cell_type": "code",
   "execution_count": null,
   "id": "16da3614-0b1e-4c00-b62b-22e2d0ba748c",
   "metadata": {},
   "outputs": [],
   "source": [
    "dark_current_signal_values = []\n",
    "dark_current_uncertainty_values = []\n",
    "\n",
    "for dark_current_directory in dark_current_directories:\n",
    "    dark_current_files = glob.glob(os.path.join(dark_current_directory, '*fits'))\n",
    "    for dark_current_file in dark_current_files:\n",
    "        with fits.open(dark_current_file) as hdul:\n",
    "            one_file_dark_current_signal_data = hdul[0].data * 47.92 # gain\n",
    "            average_one_file_dark_current_signal_data = np.mean(one_file_dark_current_signal_data)\n",
    "    \n",
    "    average_dark_current_signal_data = np.mean(average_one_file_dark_current_signal_data)\n",
    "    uncertainty_dark_current_signal_data = np.std(average_one_file_dark_current_signal_data)\n",
    "    \n",
    "    dark_current_signal_values.append(average_dark_current_signal_data)\n",
    "    dark_current_uncertainty_values.append(uncertainty_dark_current_signal_data)"
   ]
  },
  {
   "cell_type": "code",
   "execution_count": null,
   "id": "f7b21176-2426-4db4-8fc1-6a645db14acf",
   "metadata": {},
   "outputs": [],
   "source": [
    "dark_current_slope, dark_current_intercept, dark_current_r_value, dark_current_p_value, dark_current_std_err = linregress(dark_current_exposure_times, dark_current_signal_values)\n",
    "\n",
    "plt.figure(figsize=(5, 5))\n",
    "plt.scatter(dark_current_exposure_times, dark_current_signal_values, color='purple', label='Dark Current Data')\n",
    "plt.plot(dark_current_exposure_times, (dark_current_slope*dark_current_exposure_times) + dark_current_intercept, color='red', label=f'Fit = {np.round(dark_current_slope)} $\\pm$ {np.round(dark_current_std_err)} (e$^-$/s/pixel)')\n",
    "plt.title(\"Dark Current Fit\")\n",
    "plt.xlabel(\"Exposure Time of Dark Frame (s)\")\n",
    "plt.ylabel(\"Mean Signal Value of Dark Frame (electrons)\")\n",
    "plt.legend(loc='upper left')\n"
   ]
  },
  {
   "cell_type": "code",
   "execution_count": null,
   "id": "6646c3ed-8921-4f68-9de5-1cf2b97dd50e",
   "metadata": {},
   "outputs": [],
   "source": [
    "print(f\"\\nDark current = {np.round(dark_current_slope, 2)} +/- {np.round(dark_current_std_err, 2)} (electrons/s/pixel)\\n\")\n"
   ]
  },
  {
   "cell_type": "markdown",
   "id": "d13890ef-e627-4689-bcea-9a3e67902a54",
   "metadata": {},
   "source": [
    "## 2.2.2 Read Noise\n",
    "**Read Noise:** noise produced from during the transfer of charger from the pixels to the camera.\n",
    "\n",
    "**KEY STEPS:**\n",
    "1) Measure images of a white light \"flat frame\" source over the FOV at different **very short** integration times.\n",
    "2) Analyze a stack of flat frames to measure the read noise. \n"
   ]
  },
  {
   "cell_type": "code",
   "execution_count": null,
   "id": "cb998925-ed71-4abf-a7b2-83501f9aa53d",
   "metadata": {},
   "outputs": [],
   "source": [
    "#read_noise_directory_10us = \"read_noise/10us/fits\"\n",
    "\n",
    "\n",
    "#read_noise_exposure_time = # micro seconds\n",
    "read_noise_directories = [read_noise_directory_10us, read_noise_directory_100us, read_noise_directory_1000us]\n"
   ]
  },
  {
   "cell_type": "code",
   "execution_count": null,
   "id": "32c496ab-a9ce-411e-b056-2a1262b2dfac",
   "metadata": {},
   "outputs": [],
   "source": [
    "read_noise_signal_values = []\n",
    "read_noise_variance_values = []\n",
    "theoretical_read_noise_noise_values = []\n",
    "\n",
    "for read_noise_directory in read_noise_directories:\n",
    "    one_exposure_mean_pixel_value = [] \n",
    "    read_noise_files = glob.glob(os.path.join(read_noise_directory, '*fits'))\n",
    "    for read_noise_file in read_noise_files:\n",
    "        with fits.open(read_noise_file) as hdul:\n",
    "            all_pixel_values = hdul[0].data * 47.92\n",
    "            mean_pixel_values = np.mean(all_pixel_values) \n",
    "            one_exposure_mean_pixel_value.append(mean_pixel_values)\n",
    "\n",
    "    average_one_exposure_signal_data = np.mean(one_exposure_mean_pixel_value) \n",
    "    theoretical_read_noise_noise_data = np.sqrt(np.mean(one_exposure_mean_pixel_value))\n",
    "    variance_one_exposure_signal_data = np.var(one_exposure_mean_pixel_value)\n",
    "    \n",
    "    read_noise_signal_values.append(average_one_exposure_signal_data)\n",
    "    read_noise_variance_values.append(variance_one_exposure_signal_data)\n",
    "    theoretical_read_noise_noise_values.append(theoretical_read_noise_noise_data)\n",
    "\n",
    "read_noise = np.mean(theoretical_read_noise_noise_values)"
   ]
  },
  {
   "cell_type": "code",
   "execution_count": null,
   "id": "0c1b394f-207b-457b-a124-330f7917a342",
   "metadata": {},
   "outputs": [],
   "source": [
    "print(f\"\\nRead noise = {np.round(read_noise, 2)} (electrons)\\n\")"
   ]
  },
  {
   "cell_type": "code",
   "execution_count": null,
   "id": "bd9bb11e-cbf8-460e-a7ea-fbb12442a3e8",
   "metadata": {},
   "outputs": [],
   "source": [
    "plt.figure(figsize=(4,4))\n",
    "plt.scatter(rn_exposure_time , read_noise_values, color = 'purple', label='Readnoise Data')\n",
    "plt.hlines(y=4, xmin=0, xmax=1100, color='r', linestyle='--')\n",
    "plt.ylim(1,10)\n",
    "plt.title(\"Readnoise Value over Time\")\n",
    "plt.xlabel('Exposure time (s)')\n",
    "plt.ylabel('Read noise (electrons)')\n",
    "plt.legend()\n",
    "plt.show()\n"
   ]
  },
  {
   "cell_type": "code",
   "execution_count": null,
   "id": "6dfa0154-d293-4cf6-ab54-08a95292a9f2",
   "metadata": {},
   "outputs": [],
   "source": []
  },
  {
   "cell_type": "code",
   "execution_count": null,
   "id": "e74fa58f-52e9-4156-b021-ee5de33798d1",
   "metadata": {},
   "outputs": [],
   "source": []
  }
 ],
 "metadata": {
  "kernelspec": {
   "display_name": "Python 3 (ipykernel)",
   "language": "python",
   "name": "python3"
  },
  "language_info": {
   "codemirror_mode": {
    "name": "ipython",
    "version": 3
   },
   "file_extension": ".py",
   "mimetype": "text/x-python",
   "name": "python",
   "nbconvert_exporter": "python",
   "pygments_lexer": "ipython3",
   "version": "3.11.0"
  }
 },
 "nbformat": 4,
 "nbformat_minor": 5
}
