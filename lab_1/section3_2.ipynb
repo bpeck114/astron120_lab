{
 "cells": [
  {
   "cell_type": "markdown",
   "id": "ef81d896-82da-4250-b7b4-d2c52804f40d",
   "metadata": {},
   "source": [
    "# Lab #1 Images, optics, and the statistics of light\n",
    "## Section 3.2"
   ]
  },
  {
   "cell_type": "code",
   "execution_count": null,
   "id": "35757f0f-d83f-455e-ace3-5b20ac64eeed",
   "metadata": {},
   "outputs": [],
   "source": [
    "# Import necessary packages\n",
    "from glob import glob\n",
    "import numpy as np\n",
    "import os\n",
    "import astropy.io.fits as fits\n",
    "import matplotlib.pyplot as plt\n",
    "from astropy.visualization import PercentileInterval, ImageNormalize, SqrtStretch\n",
    "from scipy.optimize import curve_fit\n",
    "from photutils.aperture import CircularAperture, CircularAnnulus, ApertureStats, aperture_photometry\n",
    "import matplotlib.ticker as ticker"
   ]
  },
  {
   "cell_type": "code",
   "execution_count": null,
   "id": "61332f56-9a32-4a37-a3a5-1b8c43c62a4d",
   "metadata": {},
   "outputs": [],
   "source": [
    "# Important analytical values\n",
    "#gain =\n",
    "#bias = \n",
    "#dark_current = \n",
    "#read_noise = \n",
    "#plate_scale =\n"
   ]
  },
  {
   "cell_type": "markdown",
   "id": "77d064b8-909d-463e-95f9-d3f324d82913",
   "metadata": {},
   "source": [
    "# Astronomical Measurements\n",
    "## 2.3.2 Astrometry\n",
    "**Astrometry:** the study of the precise measurement of the positions and movements of celestial objects.\n",
    "\n",
    "**KEY STEPS:**\n",
    "1) Measure the position and positional uncertainty of a star in the globular cluster-sim.\n",
    "2) Determine the astrometric precision empirically and estimate analytically.\n"
   ]
  },
  {
   "cell_type": "code",
   "execution_count": null,
   "id": "1d90c65b-e6f7-45f5-9503-9b41da67c949",
   "metadata": {},
   "outputs": [],
   "source": [
    "# star_cluster_directory =# Path to star cluster files\n",
    "star_cluster_files = glob(os.path.join(star_cluster_directory, '*.fits'))\n",
    "\n",
    "print(f\"\\nFound {len(star_cluster_files)} files in '{star_cluster_directory}'.\")\n",
    "print(f\"Directory exposure time is {(os.path.basename(star_cluster_files[0]).split('_')[1].split('.')[0])}.\\n\")"
   ]
  },
  {
   "cell_type": "code",
   "execution_count": null,
   "id": "5cea65f7-d050-4338-a696-490327b61ab4",
   "metadata": {},
   "outputs": [],
   "source": [
    "sum_star_cluster_data = np.zeros_like(fits.getdata(star_cluster_files[0]))\n",
    "\n",
    "for star_cluster_file in star_cluster_files:\n",
    "    star_cluster_data = fits.getdata(star_cluster_file) * gain\n",
    "    \n",
    "    sum_star_cluster_data += star_cluster_data\n",
    "\n",
    "mean_star_cluster_data = sum_star_cluster_data / len(star_cluster_files)\n",
    "\n",
    "interval = PercentileInterval(99) # Get rid of extreme outliers\n",
    "vmin, vmax = interval.get_limits(mean_star_cluster_data)\n",
    "norm = ImageNormalize(mean_star_cluster_data, vmin=vmin, vmax=vmax, stretch=SqrtStretch())\n",
    "\n",
    "plt.figure(figsize=(6, 6))\n",
    "plt.title('Unprocessed Image of Star Cluster')\n",
    "plt.xlabel('X Index (pixels)')\n",
    "plt.ylabel('Y Index (pixels)')\n",
    "plt.imshow(mean_star_cluster_data, cmap='gist_heat', origin='lower')\n",
    "plt.show()"
   ]
  },
  {
   "cell_type": "code",
   "execution_count": null,
   "id": "d1b88261-35e3-41ea-815d-1c25a881de75",
   "metadata": {},
   "outputs": [],
   "source": [
    "#ylow = \n",
    "#yhigh = \n",
    "#xlow = \n",
    "#xhigh =\n",
    "\n",
    "mean_star_data = mean_star_cluster_data[ylow:yhigh, xlow:xhigh] # zoom-in on star of interest\n",
    "\n",
    "plt.figure(figsize=(4, 4))\n",
    "plt.title('Normalized Mean Image of Star')\n",
    "plt.xlabel('X Index (pixels)')\n",
    "plt.ylabel('Y Index (pixels)')\n",
    "plt.imshow(mean_star_data, norm=norm, cmap='gist_heat', origin='lower')\n",
    "plt.show()"
   ]
  },
  {
   "cell_type": "markdown",
   "id": "bd50e361-a5f1-4c0a-b019-d3997c885127",
   "metadata": {},
   "source": [
    "### Gaussian Function\n",
    "A star is a point source, however, a detector can only get as sharp as its **diffraction-limit**.\n",
    "\n",
    "$$\n",
    "\\theta = 1.22 \\frac{\\lambda}{D_{\\text{telescope}}} \\, \\text{radians}\n",
    "$$\n",
    "\n",
    "Therefore, the point source while turn into a **point-spread function**, modeled by a Gaussian distribution:\n",
    "\n",
    "$$\n",
    "f(x, y) = A * \\text{exp}\\left({-\\frac{(x - x_0)^2}{2\\sigma_x^2}} - \\frac{(y - y_0)^2}{2\\sigma_y^2}\\right)\n",
    "$$\n",
    "\n",
    "Where $A$ is the amplitude (or peak flux), ($x_0$, $y_0$) is the center of the function (star), $\\sigma_x$ and $\\sigma_y$ are the standard deviations. To find the FWHM we need to know the following relationship:\n",
    "\n",
    "$$\n",
    "\\text{FWHM} = 2\\sqrt{2\\ln(2)}\\sigma = 2.355\\sigma\n",
    "$$"
   ]
  },
  {
   "cell_type": "code",
   "execution_count": null,
   "id": "20ce3115-16b9-4f9a-8e84-20e538189f7c",
   "metadata": {},
   "outputs": [],
   "source": [
    "# 2D Gaussian function for determining FWHM of star\n",
    "def gaussian_2d(xy, amplitude, xo, yo, sigma_x, sigma_y, theta):\n",
    "    x, y = xy\n",
    "    xo = float(xo)\n",
    "    yo = float(yo)    \n",
    "    a = (np.cos(theta)**2) / (2*sigma_x**2) + (np.sin(theta)**2)/(2*sigma_y**2)\n",
    "    b = -(np.sin(2*theta)) / (4*sigma_x**2) + (np.sin(2*theta))/(4*sigma_y**2)\n",
    "    c = (np.sin(theta)**2) / (2*sigma_x**2) + (np.cos(theta)**2)/(2*sigma_y**2)\n",
    "    g = amplitude*np.exp( - (a*((x-xo)**2) + 2*b*(x-xo)*(y-yo) \n",
    "                            + c*((y-yo)**2)))\n",
    "    return g.ravel()"
   ]
  },
  {
   "cell_type": "code",
   "execution_count": null,
   "id": "38a206e8-a70c-4a1c-b3f0-79cd0c025b82",
   "metadata": {},
   "outputs": [],
   "source": [
    "#guess_center_star =  # (y, x)\n",
    "\n",
    "# Create range of values for the Gaussian fit\n",
    "x = np.arange(0, mean_star_data.shape[1])\n",
    "y = np.arange(0, mean_star_data.shape[0])\n",
    "x, y =np.meshgrid(x, y)\n",
    "\n",
    "initial_guess_for_gaussian_fit = (np.max(mean_star_data), guess_center_star[1], guess_center_star[0], 5, 5, 0)\n",
    "\n",
    "popt, pcov = curve_fit(gaussian_2d, (x, y), mean_star_data.ravel(), p0=initial_guess_for_gaussian_fit)\n",
    "amplitude, x0, y0, sigma_x, sigma_y, offset = popt\n",
    "\n",
    "center = np.array([x0 + 5, y0 - 10])\n",
    "\n",
    "fwhm_x = 2.355 * sigma_x\n",
    "fwhm_y = 2.355 * sigma_y\n",
    "\n",
    "print(f\"\\nCentroid of star is at pixel ({np.round(center[0])}, {np.round(center[1])}).\")\n",
    "print(f\"FWHM in x is {np.round(fwhm_x)} pixels and in y is {np.round(fwhm_y)} pixels.\\n\")"
   ]
  },
  {
   "cell_type": "code",
   "execution_count": null,
   "id": "1e30771b-ee30-42a3-b933-a15c60d20951",
   "metadata": {},
   "outputs": [],
   "source": [
    "star_fitted_data = gaussian_2d((x, y), *popt)\n",
    "\n",
    "fig, ax = plt.subplots(figsize=(4, 4))\n",
    "ax.set_title('Mean Image of Star w/ Contours')\n",
    "ax.set_xlabel('X Index (pixels)')\n",
    "ax.set_ylabel('Y Index (pixels)')\n",
    "ax.imshow(mean_star_data, cmap='gist_heat', origin='lower')\n",
    "ax.contour(x, y, mean_star_data, 5, colors='w')\n",
    "ax.scatter(center[0], center[1], color='green')\n",
    "plt.show()"
   ]
  },
  {
   "cell_type": "markdown",
   "id": "830e79a4-2317-4627-914f-b8c4c528e7e5",
   "metadata": {},
   "source": [
    "## 2.3.2.1 Empirical Astrometric Precision"
   ]
  },
  {
   "cell_type": "code",
   "execution_count": null,
   "id": "34d4eebc-4df9-41a5-b2ee-51923b4a0e18",
   "metadata": {},
   "outputs": [],
   "source": [
    "centroid_signal = mean_star_data[int(y0), int(x0)]\n",
    "centroid_noise = np.sqrt(centroid_signal)\n",
    "empirical_signal_to_noise_ratio = centroid_signal / centroid_noise\n",
    "empirical_astrometric_uncertainty = ((fwhm_x + fwhm_y)/2) / empirical_signal_to_noise_ratio\n",
    "\n",
    "print(f\"\\nThe empirical signal-to-noise ratio is {np.round(empirical_signal_to_noise_ratio, 2)}.\")\n",
    "print(f\"The star's position is ({np.round(center[0])}, {np.round(center[1])}) +/- {np.round(empirical_astrometric_uncertainty)} pixels.\\n\")\n",
    "print(f\"The star's position is ({np.round(center[0] * plate_scale)}, {np.round(center[1] * plate_scale)}) +/- {np.round(analytical_astrometric_uncertainty * plate_scale)} arcseconds.\\n\")\n"
   ]
  },
  {
   "cell_type": "markdown",
   "id": "982d146b-f5de-484c-953d-b34d982dbdd8",
   "metadata": {},
   "source": [
    "## 2.3.2.2 Analytical Astrometric Precision"
   ]
  },
  {
   "cell_type": "code",
   "execution_count": null,
   "id": "bea1d405-0611-44a8-9733-070878a6cfed",
   "metadata": {},
   "outputs": [],
   "source": [
    "star_aperture = CircularAperture(center, r=35)\n",
    "annulus_aperture = CircularAnnulus(center, r_in=70, r_out=100)\n",
    "\n",
    "star_aperture.plot(color='white', lw=2)\n",
    "annulus_aperture.plot(color='red', lw=2)\n",
    "plt.imshow(mean_star_data, cmap='gist_heat', origin='lower')\n",
    "plt.show()"
   ]
  },
  {
   "cell_type": "code",
   "execution_count": null,
   "id": "f2fd97e5-3a2d-4af9-b3e0-d3a9dc289e6f",
   "metadata": {},
   "outputs": [],
   "source": [
    "aperture_stats = ApertureStats(mean_star_data, star_aperture)\n",
    "annulus_stats = ApertureStats(mean_star_data, annulus_aperture)\n",
    "aperture_area = star_aperture.area_overlap(mean_star_data)\n",
    "\n",
    "sum_signal = aperture_stats.sum\n",
    "mean_background = annulus_stats.mean\n",
    "\n",
    "print(f\"\\nMeasured signal from the star is {np.round(sum_signal)} (electrons).\")\n",
    "print(f\"Background is {np.round(mean_background)} (electrons/pixel).\\n\")"
   ]
  },
  {
   "cell_type": "code",
   "execution_count": null,
   "id": "e3a3d4ae-4677-4178-a6f2-020978e07aba",
   "metadata": {},
   "outputs": [],
   "source": [
    "measured_signal = sum_signal - (mean_background * aperture_area) - (bias) - (dark_current * aperture_area)\n",
    "uncertainty_measured_signal = np.sqrt(sum_signal - (mean_background * aperture_area) - bias - (dark_current * aperture_area))\n",
    "\n",
    "analytical_signal_to_noise_ratio = measured_signal / uncertainty_measured_signal\n",
    "analytical_astrometric_uncertainty = ((fwhm_x + fwhm_y) / 2) / analytical_signal_to_noise_ratio\n",
    "\n",
    "print(f\"\\nThe empirical signal-to-noise ratio is {np.round(analytical_signal_to_noise_ratio, 2)}.\")\n",
    "print(f\"The star's position is ({np.round(center[0])}, {np.round(center[1])}) +/- {np.round(analytical_astrometric_uncertainty)} pixels.\\n\")\n",
    "print(f\"The star's position is ({np.round(center[0] * plate_scale)}, {np.round(center[1] * plate_scale)}) +/- {np.round(analytical_astrometric_uncertainty * plate_scale)} arcseconds.\\n\")\n",
    "\n"
   ]
  },
  {
   "cell_type": "code",
   "execution_count": null,
   "id": "ee310603-7e82-47fc-8ef8-1e02d70fb6fd",
   "metadata": {},
   "outputs": [],
   "source": []
  }
 ],
 "metadata": {
  "kernelspec": {
   "display_name": "Python 3 (ipykernel)",
   "language": "python",
   "name": "python3"
  },
  "language_info": {
   "codemirror_mode": {
    "name": "ipython",
    "version": 3
   },
   "file_extension": ".py",
   "mimetype": "text/x-python",
   "name": "python",
   "nbconvert_exporter": "python",
   "pygments_lexer": "ipython3",
   "version": "3.11.0"
  }
 },
 "nbformat": 4,
 "nbformat_minor": 5
}
