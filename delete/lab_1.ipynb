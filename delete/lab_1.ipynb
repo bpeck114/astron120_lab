{
 "cells": [
  {
   "cell_type": "markdown",
   "id": "e70d5828-df8f-44af-aa14-f2cb758d3425",
   "metadata": {},
   "source": [
    "# Lab #1 Images, optics, and the statistics of light"
   ]
  },
  {
   "cell_type": "code",
   "execution_count": 1,
   "id": "b8295fc2-c2f5-40a4-8ffb-b1125d955a87",
   "metadata": {},
   "outputs": [],
   "source": [
    "# Import necessary packages\n",
    "import numpy as np\n",
    "import math"
   ]
  },
  {
   "cell_type": "markdown",
   "id": "a1f59672-d248-4a25-bb6d-c9d87ad0e555",
   "metadata": {},
   "source": [
    "## Optical Imager\n",
    "*GOAL*: Map an object to an image plane (image formation). \\\n",
    "\\\n",
    "**Thin-lens equation**:\n",
    "\n",
    "$$\n",
    "\\frac{1}{f} = \\frac{1}{i} + \\frac{1}{o}\n",
    "$$\n",
    "\n",
    "where $f = \\text{focal length of thin lens}$, $o = \\text{distance from object to thin lens}$ and $i = \\text{distance from image to thin lens}$. \n",
    "\n",
    "**Focal length** = determines how strongly a system converges or diverges recieved light, determines the extent of an image and the distance between two imaged objects on the focal plane. \\\n",
    "**Focal plane** = where your image comes to a focus \\\n",
    "**Combination of two lenses equation:** \n",
    "$$\n",
    "\\frac{1}{F} = \\frac{1}{f_1} + \\frac{1}{f_2} - \\frac{d}{f_1 * f_2}\n",
    "$$\n",
    "\n",
    "where $F = \\text{combined focal length}$, $f_1 = \\text{focal length of lens 1}$, $f_2 = \\text{focal length of lens 2}$ and $d = \\text{distance between lenses}$."
   ]
  },
  {
   "cell_type": "code",
   "execution_count": 2,
   "id": "9701ec98-a643-4fe4-a156-addb65a7d9fd",
   "metadata": {},
   "outputs": [],
   "source": [
    "# Detector\n",
    "detector_width_pixels = 1440 # pixels\n",
    "detector_height_pixels = 1440 # pixels\n",
    "pixel_size_um = 2.4 # um"
   ]
  },
  {
   "cell_type": "code",
   "execution_count": 3,
   "id": "91c8d7bc-1950-4daa-a98e-7bb760c4be06",
   "metadata": {},
   "outputs": [],
   "source": [
    "# Lenses\n",
    "focal_lengths_mm = [50.0, 75.0, 100.0]"
   ]
  },
  {
   "cell_type": "code",
   "execution_count": 4,
   "id": "0e0553de-d9cf-4243-94f7-303c7b38adb2",
   "metadata": {},
   "outputs": [],
   "source": [
    "# Optical bench setup\n",
    "distance_from_detector_to_object_mm = 330 # mm\n",
    "min_distance_between_two_lenses_mm = 5 #mm\n",
    "max_distance_between_two_lenses_mm = 200 #mm"
   ]
  },
  {
   "cell_type": "code",
   "execution_count": 5,
   "id": "f1d2b707-b542-49c1-9eca-5b21b66eaa17",
   "metadata": {},
   "outputs": [],
   "source": [
    "# Ronchi Mask\n",
    "num_ronchi_lines_from_75_mm_lens = 17"
   ]
  },
  {
   "cell_type": "markdown",
   "id": "3b6ce99b-a62d-4291-8827-27cf83f02482",
   "metadata": {},
   "source": [
    "## 1.1 Plate Scale\n",
    "*GOAL*: Determine an optimal imaging system with a plate scale that would allow to resolve two successive lines of the provided Ronchi mask. \\\n",
    "\\\n",
    "**Plate scale** = angular size of an object that can be imaged onto a particular linear size on the focal plane (angle / unit length) (radians / mm) (arcseconds / pixel)\n",
    "\n",
    "\n",
    "$$\n",
    "\\begin{split}\n",
    "\\text{Plate Scale } (p) & = \\frac{\\text{angular separation}\\,(\\text{radians})}{\\text{linear separation} (\\text{mm})} = \\frac{\\text{pixel size (mm)}}{\\text{focal length (mm)}} = \\frac{\\text{radians}}{\\text{pixel}} * \\left(\\frac{206265\\,\\text{arcseconds}}{1\\,\\text{radian}} \\right) = \\frac{\\text{arcseconds}}{\\text{pixel}}\n",
    "\\end{split}\n",
    "$$"
   ]
  },
  {
   "cell_type": "code",
   "execution_count": 6,
   "id": "7df5d537-e52a-4e5b-909d-9d13f9216983",
   "metadata": {},
   "outputs": [
    {
     "name": "stdout",
     "output_type": "stream",
     "text": [
      "Plate scale for 50.0mm lens is 9.9007 (arcseconds / pixel).\n",
      "Field of view for 50.0mm lens is 14257.0368 x 14257.0368  (arcseconds).\n",
      "\n",
      "Plate scale for 75.0mm lens is 6.6005 (arcseconds / pixel).\n",
      "Field of view for 75.0mm lens is 9504.6912 x 9504.6912  (arcseconds).\n",
      "\n",
      "Plate scale for 100.0mm lens is 4.9504 (arcseconds / pixel).\n",
      "Field of view for 100.0mm lens is 7128.5184 x 7128.5184  (arcseconds).\n",
      "\n"
     ]
    }
   ],
   "source": [
    "def calculate_plate_scale_and_field_of_view(pixel_size_um,\n",
    "                                            focal_length_mm,\n",
    "                                            detector_width_pixels,\n",
    "                                            detector_height_pixels):\n",
    "    # Plate scale\n",
    "    arcseconds_in_a_radian = 206265\n",
    "    focal_length_um = focal_length_mm * 1000\n",
    "    plate_scale = arcseconds_in_a_radian * (pixel_size_um / focal_length_um)\n",
    "\n",
    "    # Field of View\n",
    "    field_of_view_width_arcseconds = plate_scale * detector_width_pixels\n",
    "    field_of_view_height_arcseconds = plate_scale * detector_height_pixels\n",
    "                                                \n",
    "    return plate_scale, field_of_view_width_arcseconds, field_of_view_height_arcseconds\n",
    "\n",
    "for focal_length_mm in focal_lengths_mm:\n",
    "    plate_scale, field_of_view_width_arcseconds, field_of_view_height_arcseconds = calculate_plate_scale_and_field_of_view(pixel_size_um=pixel_size_um,\n",
    "                                                                                                                           focal_length_mm=focal_length_mm,\n",
    "                                                                                                                           detector_width_pixels=detector_width_pixels,\n",
    "                                                                                                                           detector_height_pixels=detector_height_pixels)\n",
    "    \n",
    "    print(f\"Plate scale for {focal_length_mm}mm lens is {np.round(plate_scale, 4)} (arcseconds / pixel).\")\n",
    "    print(f\"Field of view for {focal_length_mm}mm lens is {np.round(field_of_view_width_arcseconds, 4)} x {np.round(field_of_view_height_arcseconds, 4)}  (arcseconds).\\n\")\n",
    "    "
   ]
  },
  {
   "cell_type": "code",
   "execution_count": 9,
   "id": "02742df5-d932-4813-ac25-e0cef753634b",
   "metadata": {},
   "outputs": [
    {
     "data": {
      "text/plain": [
       "(15.469874999999998, 22276.62, 22276.62)"
      ]
     },
     "execution_count": 9,
     "metadata": {},
     "output_type": "execute_result"
    }
   ],
   "source": [
    "calculate_plate_scale_and_field_of_view(pixel_size_um=2.4,\n",
    "                                            focal_length_mm=32,\n",
    "                                            detector_width_pixels=1440,\n",
    "                                            detector_height_pixels=1440)"
   ]
  },
  {
   "cell_type": "code",
   "execution_count": 12,
   "id": "fcdcccf5-6bcb-420e-abca-886525ca0d0d",
   "metadata": {},
   "outputs": [
    {
     "name": "stdout",
     "output_type": "stream",
     "text": [
      "Separation between Ronchi lines: 0.216 (mm).\n"
     ]
    }
   ],
   "source": [
    "# Calculate ronchi line separatation\n",
    "def calculate_ronchi_line_separation_mm(num_ronchi_lines, detector_width_pixels, focal_length_mm, pixel_size_um):\n",
    "    pixel_size_mm = pixel_size_um / 1000 # mm\n",
    "    detector_width_mm = detector_width_pixels * pixel_size_mm\n",
    "\n",
    "    line_separation_mm = detector_width_mm / (num_ronchi_lines - 1) # Subtract by 1 since there are N-1 spaces between N lines\n",
    "\n",
    "    return line_separation_mm\n",
    "\n",
    "# Pre-emptively determine the distance between Ronchi lines\n",
    "ronchi_line_separation_mm = calculate_ronchi_line_separation_mm(num_ronchi_lines=num_ronchi_lines_from_75_mm_lens,\n",
    "                                                                detector_width_pixels=detector_width_pixels, \n",
    "                                                                focal_length_mm=focal_lengths_mm[1], \n",
    "                                                                pixel_size_um=pixel_size_um)\n",
    "\n",
    "print(f\"Separation between Ronchi lines: {np.round(ronchi_line_separation_mm,4)} (mm).\")"
   ]
  },
  {
   "cell_type": "code",
   "execution_count": 13,
   "id": "f5ebafea-e772-40c2-9b18-87cd245cd904",
   "metadata": {},
   "outputs": [
    {
     "name": "stdout",
     "output_type": "stream",
     "text": [
      "Separation between Ronchi lines is 135.0097 (arcseconds).\n"
     ]
    }
   ],
   "source": [
    "def calculate_size_in_arcseconds(separation_on_image_mm, distance_to_image_mm):\n",
    "    theta_radians = math.atan(separation_on_image_mm / distance_to_image_mm) #radians\n",
    "    theta_degrees = math.degrees(theta_radians) # degrees \n",
    "    theta_arcseconds = theta_degrees * 3600 # arcseconds\n",
    "    return theta_arcseconds\n",
    "\n",
    "ronchi_line_separation_arcseconds = calculate_size_in_arcseconds(separation_on_image_mm=ronchi_line_separation_mm,\n",
    "                                                                 distance_to_image_mm=distance_from_detector_to_object_mm)\n",
    "\n",
    "print(f\"Separation between Ronchi lines is {np.round(ronchi_line_separation_arcseconds,4)} (arcseconds).\")"
   ]
  },
  {
   "cell_type": "markdown",
   "id": "20803341-e29f-4174-a120-231a8bac48b6",
   "metadata": {},
   "source": [
    "## 1.2 Field of View\n",
    "Determine an optimal imaging system that is capable of imaging the entire extent of Jupiter in a single exposure."
   ]
  },
  {
   "cell_type": "code",
   "execution_count": 14,
   "id": "29f45c14-4615-43cc-bd91-d820c500b0c8",
   "metadata": {},
   "outputs": [],
   "source": [
    "diameter_of_jupiter_mm = 110 # mm"
   ]
  },
  {
   "cell_type": "code",
   "execution_count": 15,
   "id": "3ee9fcb1-acfc-4662-b3d7-1411c8742474",
   "metadata": {},
   "outputs": [
    {
     "name": "stdout",
     "output_type": "stream",
     "text": [
      "Diameter of Jupiter is 22598.2746 (arcseconds).\n"
     ]
    }
   ],
   "source": [
    "diameter_of_jupiter_arcseconds = calculate_size_in_arcseconds(separation_on_image_mm=diameter_of_jupiter_mm,\n",
    "                                                              distance_to_image_mm=1000)\n",
    "\n",
    "print(f\"Diameter of Jupiter is {np.round(diameter_of_jupiter_arcseconds,4)} (arcseconds).\")"
   ]
  },
  {
   "cell_type": "code",
   "execution_count": 13,
   "id": "4e7fda4e-7aaf-4f50-b446-bd8e35bb3c04",
   "metadata": {},
   "outputs": [
    {
     "name": "stdout",
     "output_type": "stream",
     "text": [
      "To image Jupiter, the plate scale needs to be 32.4052 (arcseconds / pixel).\n"
     ]
    }
   ],
   "source": [
    "def calculate_needed_plate_scale(size_in_arcseconds, number_of_pixels):\n",
    "    plate_scale = size_in_arcseconds / number_of_pixels\n",
    "    return plate_scale\n",
    "\n",
    "jupiter_needed_plate_scale = calculate_needed_plate_scale(size_in_arcseconds=diameter_of_jupiter_arcseconds,\n",
    "                                                          number_of_pixels=detector_height_pixels)\n",
    "\n",
    "print(f\"To image Jupiter, the plate scale needs to be {np.round(jupiter_needed_plate_scale, 4)} (arcseconds / pixel).\")"
   ]
  },
  {
   "cell_type": "code",
   "execution_count": 42,
   "id": "367035fd-0a2c-411e-9551-7f291ae4be11",
   "metadata": {},
   "outputs": [
    {
     "name": "stdout",
     "output_type": "stream",
     "text": [
      "To image Jupiter, the focal length needs to be 15.2764mm. \n"
     ]
    }
   ],
   "source": [
    "def calculate_plate_scale_to_focal_length_mm(plate_scale, pixel_size_um):\n",
    "    pixel_size_mm = pixel_size_um / 1000\n",
    "    focal_length = (206265 * pixel_size_mm) / plate_scale\n",
    "    return focal_length \n",
    "\n",
    "jupiter_needed_focal_length = calculate_plate_scale_to_focal_length_mm(plate_scale=jupiter_needed_plate_scale, pixel_size_um=pixel_size_um)\n",
    "\n",
    "print(f\"To image Jupiter, the focal length needs to be {np.round(jupiter_needed_focal_length, 4)}mm. \")"
   ]
  },
  {
   "cell_type": "code",
   "execution_count": 44,
   "id": "664551b4-5a68-41df-8d5b-9a3f3d84bd2b",
   "metadata": {},
   "outputs": [
    {
     "name": "stdout",
     "output_type": "stream",
     "text": [
      "0.002\n",
      "0.08\n",
      "0.0008888888888888889\n",
      "0.035555555555555556\n",
      "0.002\n",
      "0.08\n",
      "Combined focal length of 50.0mm lens and 75.0mm lens at 5mm apart is 31.9149mm.\n",
      "Combined focal length of 50.0mm lens and 75.0mm lens at 200mm apart is -21.4286mm.\n",
      "\n",
      "Combined focal length of 50.0mm lens and 100.0mm lens at 5mm apart is 35.7143mm.\n",
      "Combined focal length of 50.0mm lens and 100.0mm lens at 200mm apart is -20.0mm.\n",
      "\n",
      "Combined focal length of 75.0mm lens and 100.0mm lens at 5mm apart is 44.5545mm.\n",
      "Combined focal length of 75.0mm lens and 100.0mm lens at 200mm apart is -81.8182mm.\n"
     ]
    }
   ],
   "source": [
    "def combined_focal_length(lens_1_focal_length_mm, lens_2_focal_length_mm, distance_between_lenses):\n",
    "    step1 = (1 / lens_1_focal_length_mm) +  (1 / lens_2_focal_length_mm)\n",
    "    step2 = (distance_between_lenses / (lens_1_focal_length_mm * lens_1_focal_length_mm))\n",
    "    print(step2)\n",
    "    step3 = 1 / (step1 - step2)\n",
    "    \n",
    "    return step3\n",
    "\n",
    "combined_min_focal_length_50_75 = combined_focal_length(lens_1_focal_length_mm=focal_lengths_mm[0],\n",
    "                                                        lens_2_focal_length_mm=focal_lengths_mm[1],\n",
    "                                                        distance_between_lenses=min_distance_between_two_lenses_mm)\n",
    "\n",
    "combined_max_focal_length_50_75 = combined_focal_length(lens_1_focal_length_mm=focal_lengths_mm[0],\n",
    "                                                        lens_2_focal_length_mm=focal_lengths_mm[1],\n",
    "                                                        distance_between_lenses=max_distance_between_two_lenses_mm)\n",
    "\n",
    "combined_min_focal_length_75_100 = combined_focal_length(lens_1_focal_length_mm=focal_lengths_mm[1],\n",
    "                                                        lens_2_focal_length_mm=focal_lengths_mm[2],\n",
    "                                                        distance_between_lenses=min_distance_between_two_lenses_mm)\n",
    "\n",
    "combined_max_focal_length_75_100 = combined_focal_length(lens_1_focal_length_mm=focal_lengths_mm[1],\n",
    "                                                         lens_2_focal_length_mm=focal_lengths_mm[2],\n",
    "                                                         distance_between_lenses=max_distance_between_two_lenses_mm)\n",
    "\n",
    "combined_min_focal_length_50_100 = combined_focal_length(lens_1_focal_length_mm=focal_lengths_mm[0],\n",
    "                                                        lens_2_focal_length_mm=focal_lengths_mm[2],\n",
    "                                                        distance_between_lenses=min_distance_between_two_lenses_mm)\n",
    "\n",
    "combined_max_focal_length_50_100 = combined_focal_length(lens_1_focal_length_mm=focal_lengths_mm[0],\n",
    "                                                         lens_2_focal_length_mm=focal_lengths_mm[2],\n",
    "                                                         distance_between_lenses=max_distance_between_two_lenses_mm)\n",
    "\n",
    "print(f\"Combined focal length of {focal_lengths_mm[0]}mm lens and {focal_lengths_mm[1]}mm lens at {min_distance_between_two_lenses_mm}mm apart is {np.round(combined_min_focal_length_50_75, 4)}mm.\")\n",
    "print(f\"Combined focal length of {focal_lengths_mm[0]}mm lens and {focal_lengths_mm[1]}mm lens at {max_distance_between_two_lenses_mm}mm apart is {np.round(combined_max_focal_length_50_75, 4)}mm.\\n\")\n",
    "\n",
    "print(f\"Combined focal length of {focal_lengths_mm[0]}mm lens and {focal_lengths_mm[2]}mm lens at {min_distance_between_two_lenses_mm}mm apart is {np.round(combined_min_focal_length_50_100, 4)}mm.\")\n",
    "print(f\"Combined focal length of {focal_lengths_mm[0]}mm lens and {focal_lengths_mm[2]}mm lens at {max_distance_between_two_lenses_mm}mm apart is {np.round(combined_max_focal_length_50_100, 4)}mm.\\n\")\n",
    "\n",
    "print(f\"Combined focal length of {focal_lengths_mm[1]}mm lens and {focal_lengths_mm[2]}mm lens at {min_distance_between_two_lenses_mm}mm apart is {np.round(combined_min_focal_length_75_100, 4)}mm.\")\n",
    "print(f\"Combined focal length of {focal_lengths_mm[1]}mm lens and {focal_lengths_mm[2]}mm lens at {max_distance_between_two_lenses_mm}mm apart is {np.round(combined_max_focal_length_75_100, 4)}mm.\")"
   ]
  },
  {
   "cell_type": "code",
   "execution_count": 41,
   "id": "2baba627-b149-4ef2-858d-e4e370e92834",
   "metadata": {},
   "outputs": [
    {
     "name": "stdout",
     "output_type": "stream",
     "text": [
      "To image Jupiter, the distance between 50.0mm lens and 100.0mm lens must be -177.3013.\n",
      "To image Jupiter, the distance between 50.0mm lens and 75.0mm lens must be -120.476.\n",
      "To image Jupiter, the distance between 75.0mm lens and 100.0mm lens must be -315.9519.\n"
     ]
    }
   ],
   "source": [
    "def calculate_needed_distance(combined_focal_length_mm, focal_length_1_mm, focal_length_2_mm):\n",
    "    step1 = 1 / combined_focal_length_mm\n",
    "    step2 = (1 / focal_length_1_mm) +  (1 / focal_length_2_mm) \n",
    "    step3 = step2 - step1\n",
    "    step4 = step3 * (focal_length_1_mm * focal_length_2_mm)\n",
    "    return step4\n",
    "\n",
    "calculated_distance_between_lenses_50_75 = calculate_needed_distance(combined_focal_length_mm=jupiter_needed_focal_length,\n",
    "                                                                     focal_length_1_mm=focal_lengths_mm[0],\n",
    "                                                                     focal_length_2_mm=focal_lengths_mm[2])\n",
    "\n",
    "calculated_distance_between_lenses_50_100 = calculate_needed_distance(combined_focal_length_mm=jupiter_needed_focal_length,\n",
    "                                                                      focal_length_1_mm=focal_lengths_mm[0],\n",
    "                                                                      focal_length_2_mm=focal_lengths_mm[1])\n",
    "\n",
    "calculated_distance_between_lenses_75_100 = calculate_needed_distance(combined_focal_length_mm=jupiter_needed_focal_length,\n",
    "                                                                      focal_length_1_mm=focal_lengths_mm[1],\n",
    "                                                                      focal_length_2_mm=focal_lengths_mm[2])\n",
    "\n",
    "print(f\"To image Jupiter, the distance between {focal_lengths_mm[0]}mm lens and {focal_lengths_mm[2]}mm lens must be {np.round(calculated_distance_between_lenses_50_75, 4)}.\")\n",
    "print(f\"To image Jupiter, the distance between {focal_lengths_mm[0]}mm lens and {focal_lengths_mm[1]}mm lens must be {np.round(calculated_distance_between_lenses_50_100, 4)}.\")\n",
    "print(f\"To image Jupiter, the distance between {focal_lengths_mm[1]}mm lens and {focal_lengths_mm[2]}mm lens must be {np.round(calculated_distance_between_lenses_75_100, 4)}.\")"
   ]
  },
  {
   "cell_type": "markdown",
   "id": "9f7d3769-1b69-4225-af6e-a97fe66fae54",
   "metadata": {},
   "source": [
    "## Field of View & Plate Scale\n",
    "What is the plate scale achieved with your optical system that imaged the entire extent of Jupiter? What plate scale should be used to resolve Jupiter spots and smallest strucutres? \\\n",
    "\\\n",
    "Use the mock globular cluster to determine the minimal separation between \"stars\" in order to resolve them with your previous optical system to estimate pixel size. "
   ]
  },
  {
   "cell_type": "markdown",
   "id": "132de0aa-7fb8-4e44-8763-45f62d1f474e",
   "metadata": {},
   "source": [
    "## Detector Properties\n"
   ]
  }
 ],
 "metadata": {
  "kernelspec": {
   "display_name": "Python 3 (ipykernel)",
   "language": "python",
   "name": "python3"
  },
  "language_info": {
   "codemirror_mode": {
    "name": "ipython",
    "version": 3
   },
   "file_extension": ".py",
   "mimetype": "text/x-python",
   "name": "python",
   "nbconvert_exporter": "python",
   "pygments_lexer": "ipython3",
   "version": "3.11.0"
  }
 },
 "nbformat": 4,
 "nbformat_minor": 5
}
